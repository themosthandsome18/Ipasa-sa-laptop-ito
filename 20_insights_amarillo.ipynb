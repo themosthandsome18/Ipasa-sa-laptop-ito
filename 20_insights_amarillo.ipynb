{
 "cells": [
  {
   "cell_type": "markdown",
   "id": "88f49d72-2f47-4a0c-b0f4-20c01bb701d9",
   "metadata": {},
   "source": [
    "<h2>1. Importing Necessary Libraries</h2>"
   ]
  },
  {
   "cell_type": "code",
   "execution_count": 1,
   "id": "9f8d56b7-de8c-4296-bcf7-c50ff1caa81a",
   "metadata": {},
   "outputs": [],
   "source": [
    "import numpy as np\n",
    "import pandas as pd\n",
    "import warnings\n",
    "warnings.filterwarnings('ignore')\n",
    "from scipy.stats import f_oneway\n",
    "import matplotlib.pyplot as plt"
   ]
  },
  {
   "cell_type": "markdown",
   "id": "895cbfd0-5f93-4b33-afd4-a478777e2646",
   "metadata": {},
   "source": [
    "<h2>2. Coverting data set to data frame</h2>"
   ]
  },
  {
   "cell_type": "code",
   "execution_count": 2,
   "id": "f06468ff-854a-4576-946f-d5b34f719bae",
   "metadata": {},
   "outputs": [],
   "source": [
    "accident = pd.read_csv('datasets\\\\uk_road_accident.csv')"
   ]
  },
  {
   "cell_type": "markdown",
   "id": "cd848125-9268-46e4-9b64-2862b9dfccf2",
   "metadata": {},
   "source": [
    "<h2>3. Check Dataframe Information</h2>"
   ]
  },
  {
   "cell_type": "code",
   "execution_count": 3,
   "id": "b03aa446-be3c-4749-bf7c-3a19fceb6e76",
   "metadata": {},
   "outputs": [
    {
     "data": {
      "text/html": [
       "<div>\n",
       "<style scoped>\n",
       "    .dataframe tbody tr th:only-of-type {\n",
       "        vertical-align: middle;\n",
       "    }\n",
       "\n",
       "    .dataframe tbody tr th {\n",
       "        vertical-align: top;\n",
       "    }\n",
       "\n",
       "    .dataframe thead th {\n",
       "        text-align: right;\n",
       "    }\n",
       "</style>\n",
       "<table border=\"1\" class=\"dataframe\">\n",
       "  <thead>\n",
       "    <tr style=\"text-align: right;\">\n",
       "      <th></th>\n",
       "      <th>Index</th>\n",
       "      <th>Accident_Severity</th>\n",
       "      <th>Accident Date</th>\n",
       "      <th>Latitude</th>\n",
       "      <th>Light_Conditions</th>\n",
       "      <th>District Area</th>\n",
       "      <th>Longitude</th>\n",
       "      <th>Number_of_Casualties</th>\n",
       "      <th>Number_of_Vehicles</th>\n",
       "      <th>Road_Surface_Conditions</th>\n",
       "      <th>Road_Type</th>\n",
       "      <th>Urban_or_Rural_Area</th>\n",
       "      <th>Weather_Conditions</th>\n",
       "      <th>Vehicle_Type</th>\n",
       "    </tr>\n",
       "  </thead>\n",
       "  <tbody>\n",
       "    <tr>\n",
       "      <th>0</th>\n",
       "      <td>200701BS64157</td>\n",
       "      <td>Serious</td>\n",
       "      <td>5/6/2019</td>\n",
       "      <td>51.506187</td>\n",
       "      <td>Darkness - lights lit</td>\n",
       "      <td>Kensington and Chelsea</td>\n",
       "      <td>-0.209082</td>\n",
       "      <td>1</td>\n",
       "      <td>2</td>\n",
       "      <td>Dry</td>\n",
       "      <td>Single carriageway</td>\n",
       "      <td>Urban</td>\n",
       "      <td>Fine no high winds</td>\n",
       "      <td>Car</td>\n",
       "    </tr>\n",
       "    <tr>\n",
       "      <th>1</th>\n",
       "      <td>200701BS65737</td>\n",
       "      <td>Serious</td>\n",
       "      <td>2/7/2019</td>\n",
       "      <td>51.495029</td>\n",
       "      <td>Daylight</td>\n",
       "      <td>Kensington and Chelsea</td>\n",
       "      <td>-0.173647</td>\n",
       "      <td>1</td>\n",
       "      <td>2</td>\n",
       "      <td>Wet or damp</td>\n",
       "      <td>Single carriageway</td>\n",
       "      <td>Urban</td>\n",
       "      <td>Raining no high winds</td>\n",
       "      <td>Car</td>\n",
       "    </tr>\n",
       "    <tr>\n",
       "      <th>2</th>\n",
       "      <td>200701BS66127</td>\n",
       "      <td>Serious</td>\n",
       "      <td>26-08-2019</td>\n",
       "      <td>51.517715</td>\n",
       "      <td>Darkness - lighting unknown</td>\n",
       "      <td>Kensington and Chelsea</td>\n",
       "      <td>-0.210215</td>\n",
       "      <td>1</td>\n",
       "      <td>3</td>\n",
       "      <td>Dry</td>\n",
       "      <td>NaN</td>\n",
       "      <td>Urban</td>\n",
       "      <td>NaN</td>\n",
       "      <td>Taxi/Private hire car</td>\n",
       "    </tr>\n",
       "    <tr>\n",
       "      <th>3</th>\n",
       "      <td>200701BS66128</td>\n",
       "      <td>Serious</td>\n",
       "      <td>16-08-2019</td>\n",
       "      <td>51.495478</td>\n",
       "      <td>Daylight</td>\n",
       "      <td>Kensington and Chelsea</td>\n",
       "      <td>-0.202731</td>\n",
       "      <td>1</td>\n",
       "      <td>4</td>\n",
       "      <td>Dry</td>\n",
       "      <td>Single carriageway</td>\n",
       "      <td>Urban</td>\n",
       "      <td>Fine no high winds</td>\n",
       "      <td>Bus or coach (17 or more pass seats)</td>\n",
       "    </tr>\n",
       "    <tr>\n",
       "      <th>4</th>\n",
       "      <td>200701BS66837</td>\n",
       "      <td>Slight</td>\n",
       "      <td>3/9/2019</td>\n",
       "      <td>51.488576</td>\n",
       "      <td>Darkness - lights lit</td>\n",
       "      <td>Kensington and Chelsea</td>\n",
       "      <td>-0.192487</td>\n",
       "      <td>1</td>\n",
       "      <td>2</td>\n",
       "      <td>Dry</td>\n",
       "      <td>NaN</td>\n",
       "      <td>Urban</td>\n",
       "      <td>NaN</td>\n",
       "      <td>Other vehicle</td>\n",
       "    </tr>\n",
       "    <tr>\n",
       "      <th>...</th>\n",
       "      <td>...</td>\n",
       "      <td>...</td>\n",
       "      <td>...</td>\n",
       "      <td>...</td>\n",
       "      <td>...</td>\n",
       "      <td>...</td>\n",
       "      <td>...</td>\n",
       "      <td>...</td>\n",
       "      <td>...</td>\n",
       "      <td>...</td>\n",
       "      <td>...</td>\n",
       "      <td>...</td>\n",
       "      <td>...</td>\n",
       "      <td>...</td>\n",
       "    </tr>\n",
       "    <tr>\n",
       "      <th>660674</th>\n",
       "      <td>201091NM01760</td>\n",
       "      <td>Slight</td>\n",
       "      <td>18-02-2022</td>\n",
       "      <td>57.374005</td>\n",
       "      <td>Daylight</td>\n",
       "      <td>Highland</td>\n",
       "      <td>-3.467828</td>\n",
       "      <td>2</td>\n",
       "      <td>1</td>\n",
       "      <td>Dry</td>\n",
       "      <td>Single carriageway</td>\n",
       "      <td>Rural</td>\n",
       "      <td>Fine no high winds</td>\n",
       "      <td>Car</td>\n",
       "    </tr>\n",
       "    <tr>\n",
       "      <th>660675</th>\n",
       "      <td>201091NM01881</td>\n",
       "      <td>Slight</td>\n",
       "      <td>21-02-2022</td>\n",
       "      <td>57.232273</td>\n",
       "      <td>Darkness - no lighting</td>\n",
       "      <td>Highland</td>\n",
       "      <td>-3.809281</td>\n",
       "      <td>1</td>\n",
       "      <td>1</td>\n",
       "      <td>Frost or ice</td>\n",
       "      <td>Single carriageway</td>\n",
       "      <td>Rural</td>\n",
       "      <td>Fine no high winds</td>\n",
       "      <td>Car</td>\n",
       "    </tr>\n",
       "    <tr>\n",
       "      <th>660676</th>\n",
       "      <td>201091NM01935</td>\n",
       "      <td>Slight</td>\n",
       "      <td>23-02-2022</td>\n",
       "      <td>57.585044</td>\n",
       "      <td>Daylight</td>\n",
       "      <td>Highland</td>\n",
       "      <td>-3.862727</td>\n",
       "      <td>1</td>\n",
       "      <td>3</td>\n",
       "      <td>Frost or ice</td>\n",
       "      <td>Single carriageway</td>\n",
       "      <td>Rural</td>\n",
       "      <td>Fine no high winds</td>\n",
       "      <td>Car</td>\n",
       "    </tr>\n",
       "    <tr>\n",
       "      <th>660677</th>\n",
       "      <td>201091NM01964</td>\n",
       "      <td>Serious</td>\n",
       "      <td>23-02-2022</td>\n",
       "      <td>57.214898</td>\n",
       "      <td>Darkness - no lighting</td>\n",
       "      <td>Highland</td>\n",
       "      <td>-3.823997</td>\n",
       "      <td>1</td>\n",
       "      <td>2</td>\n",
       "      <td>Wet or damp</td>\n",
       "      <td>Single carriageway</td>\n",
       "      <td>Rural</td>\n",
       "      <td>Fine no high winds</td>\n",
       "      <td>Motorcycle over 500cc</td>\n",
       "    </tr>\n",
       "    <tr>\n",
       "      <th>660678</th>\n",
       "      <td>201091NM02142</td>\n",
       "      <td>Serious</td>\n",
       "      <td>28-02-2022</td>\n",
       "      <td>57.575210</td>\n",
       "      <td>Daylight</td>\n",
       "      <td>Highland</td>\n",
       "      <td>-3.895673</td>\n",
       "      <td>1</td>\n",
       "      <td>1</td>\n",
       "      <td>Wet or damp</td>\n",
       "      <td>Dual carriageway</td>\n",
       "      <td>Rural</td>\n",
       "      <td>Snowing no high winds</td>\n",
       "      <td>Car</td>\n",
       "    </tr>\n",
       "  </tbody>\n",
       "</table>\n",
       "<p>660679 rows × 14 columns</p>\n",
       "</div>"
      ],
      "text/plain": [
       "                Index Accident_Severity Accident Date   Latitude  \\\n",
       "0       200701BS64157           Serious      5/6/2019  51.506187   \n",
       "1       200701BS65737           Serious      2/7/2019  51.495029   \n",
       "2       200701BS66127           Serious    26-08-2019  51.517715   \n",
       "3       200701BS66128           Serious    16-08-2019  51.495478   \n",
       "4       200701BS66837            Slight      3/9/2019  51.488576   \n",
       "...               ...               ...           ...        ...   \n",
       "660674  201091NM01760            Slight    18-02-2022  57.374005   \n",
       "660675  201091NM01881            Slight    21-02-2022  57.232273   \n",
       "660676  201091NM01935            Slight    23-02-2022  57.585044   \n",
       "660677  201091NM01964           Serious    23-02-2022  57.214898   \n",
       "660678  201091NM02142           Serious    28-02-2022  57.575210   \n",
       "\n",
       "                   Light_Conditions           District Area  Longitude  \\\n",
       "0             Darkness - lights lit  Kensington and Chelsea  -0.209082   \n",
       "1                          Daylight  Kensington and Chelsea  -0.173647   \n",
       "2       Darkness - lighting unknown  Kensington and Chelsea  -0.210215   \n",
       "3                          Daylight  Kensington and Chelsea  -0.202731   \n",
       "4             Darkness - lights lit  Kensington and Chelsea  -0.192487   \n",
       "...                             ...                     ...        ...   \n",
       "660674                     Daylight                Highland  -3.467828   \n",
       "660675       Darkness - no lighting                Highland  -3.809281   \n",
       "660676                     Daylight                Highland  -3.862727   \n",
       "660677       Darkness - no lighting                Highland  -3.823997   \n",
       "660678                     Daylight                Highland  -3.895673   \n",
       "\n",
       "        Number_of_Casualties  Number_of_Vehicles Road_Surface_Conditions  \\\n",
       "0                          1                   2                     Dry   \n",
       "1                          1                   2             Wet or damp   \n",
       "2                          1                   3                     Dry   \n",
       "3                          1                   4                     Dry   \n",
       "4                          1                   2                     Dry   \n",
       "...                      ...                 ...                     ...   \n",
       "660674                     2                   1                     Dry   \n",
       "660675                     1                   1            Frost or ice   \n",
       "660676                     1                   3            Frost or ice   \n",
       "660677                     1                   2             Wet or damp   \n",
       "660678                     1                   1             Wet or damp   \n",
       "\n",
       "                 Road_Type Urban_or_Rural_Area     Weather_Conditions  \\\n",
       "0       Single carriageway               Urban     Fine no high winds   \n",
       "1       Single carriageway               Urban  Raining no high winds   \n",
       "2                      NaN               Urban                    NaN   \n",
       "3       Single carriageway               Urban     Fine no high winds   \n",
       "4                      NaN               Urban                    NaN   \n",
       "...                    ...                 ...                    ...   \n",
       "660674  Single carriageway               Rural     Fine no high winds   \n",
       "660675  Single carriageway               Rural     Fine no high winds   \n",
       "660676  Single carriageway               Rural     Fine no high winds   \n",
       "660677  Single carriageway               Rural     Fine no high winds   \n",
       "660678    Dual carriageway               Rural  Snowing no high winds   \n",
       "\n",
       "                                Vehicle_Type  \n",
       "0                                        Car  \n",
       "1                                        Car  \n",
       "2                      Taxi/Private hire car  \n",
       "3       Bus or coach (17 or more pass seats)  \n",
       "4                              Other vehicle  \n",
       "...                                      ...  \n",
       "660674                                   Car  \n",
       "660675                                   Car  \n",
       "660676                                   Car  \n",
       "660677                 Motorcycle over 500cc  \n",
       "660678                                   Car  \n",
       "\n",
       "[660679 rows x 14 columns]"
      ]
     },
     "execution_count": 3,
     "metadata": {},
     "output_type": "execute_result"
    }
   ],
   "source": [
    "accident"
   ]
  },
  {
   "cell_type": "markdown",
   "id": "98218eb1-fa2e-46c8-9ff9-e6da36c0ffc8",
   "metadata": {},
   "source": [
    "<h2>4. Check Discriptive Statistics</h2>"
   ]
  },
  {
   "cell_type": "code",
   "execution_count": 4,
   "id": "2c1539ab-e249-429a-ab38-898f99fc1c22",
   "metadata": {},
   "outputs": [
    {
     "data": {
      "text/html": [
       "<div>\n",
       "<style scoped>\n",
       "    .dataframe tbody tr th:only-of-type {\n",
       "        vertical-align: middle;\n",
       "    }\n",
       "\n",
       "    .dataframe tbody tr th {\n",
       "        vertical-align: top;\n",
       "    }\n",
       "\n",
       "    .dataframe thead th {\n",
       "        text-align: right;\n",
       "    }\n",
       "</style>\n",
       "<table border=\"1\" class=\"dataframe\">\n",
       "  <thead>\n",
       "    <tr style=\"text-align: right;\">\n",
       "      <th></th>\n",
       "      <th>Latitude</th>\n",
       "      <th>Longitude</th>\n",
       "      <th>Number_of_Casualties</th>\n",
       "      <th>Number_of_Vehicles</th>\n",
       "    </tr>\n",
       "  </thead>\n",
       "  <tbody>\n",
       "    <tr>\n",
       "      <th>count</th>\n",
       "      <td>660654.000000</td>\n",
       "      <td>660653.000000</td>\n",
       "      <td>660679.000000</td>\n",
       "      <td>660679.000000</td>\n",
       "    </tr>\n",
       "    <tr>\n",
       "      <th>mean</th>\n",
       "      <td>52.553866</td>\n",
       "      <td>-1.431210</td>\n",
       "      <td>1.357040</td>\n",
       "      <td>1.831255</td>\n",
       "    </tr>\n",
       "    <tr>\n",
       "      <th>std</th>\n",
       "      <td>1.406922</td>\n",
       "      <td>1.383330</td>\n",
       "      <td>0.824847</td>\n",
       "      <td>0.715269</td>\n",
       "    </tr>\n",
       "    <tr>\n",
       "      <th>min</th>\n",
       "      <td>49.914430</td>\n",
       "      <td>-7.516225</td>\n",
       "      <td>1.000000</td>\n",
       "      <td>1.000000</td>\n",
       "    </tr>\n",
       "    <tr>\n",
       "      <th>25%</th>\n",
       "      <td>51.490690</td>\n",
       "      <td>-2.332291</td>\n",
       "      <td>1.000000</td>\n",
       "      <td>1.000000</td>\n",
       "    </tr>\n",
       "    <tr>\n",
       "      <th>50%</th>\n",
       "      <td>52.315641</td>\n",
       "      <td>-1.411667</td>\n",
       "      <td>1.000000</td>\n",
       "      <td>2.000000</td>\n",
       "    </tr>\n",
       "    <tr>\n",
       "      <th>75%</th>\n",
       "      <td>53.453452</td>\n",
       "      <td>-0.232869</td>\n",
       "      <td>1.000000</td>\n",
       "      <td>2.000000</td>\n",
       "    </tr>\n",
       "    <tr>\n",
       "      <th>max</th>\n",
       "      <td>60.757544</td>\n",
       "      <td>1.762010</td>\n",
       "      <td>68.000000</td>\n",
       "      <td>32.000000</td>\n",
       "    </tr>\n",
       "  </tbody>\n",
       "</table>\n",
       "</div>"
      ],
      "text/plain": [
       "            Latitude      Longitude  Number_of_Casualties  Number_of_Vehicles\n",
       "count  660654.000000  660653.000000         660679.000000       660679.000000\n",
       "mean       52.553866      -1.431210              1.357040            1.831255\n",
       "std         1.406922       1.383330              0.824847            0.715269\n",
       "min        49.914430      -7.516225              1.000000            1.000000\n",
       "25%        51.490690      -2.332291              1.000000            1.000000\n",
       "50%        52.315641      -1.411667              1.000000            2.000000\n",
       "75%        53.453452      -0.232869              1.000000            2.000000\n",
       "max        60.757544       1.762010             68.000000           32.000000"
      ]
     },
     "execution_count": 4,
     "metadata": {},
     "output_type": "execute_result"
    }
   ],
   "source": [
    "accident.describe()"
   ]
  },
  {
   "cell_type": "code",
   "execution_count": 5,
   "id": "39c2f649-70e3-4372-b189-fc65b0754640",
   "metadata": {},
   "outputs": [
    {
     "data": {
      "text/html": [
       "<div>\n",
       "<style scoped>\n",
       "    .dataframe tbody tr th:only-of-type {\n",
       "        vertical-align: middle;\n",
       "    }\n",
       "\n",
       "    .dataframe tbody tr th {\n",
       "        vertical-align: top;\n",
       "    }\n",
       "\n",
       "    .dataframe thead th {\n",
       "        text-align: right;\n",
       "    }\n",
       "</style>\n",
       "<table border=\"1\" class=\"dataframe\">\n",
       "  <thead>\n",
       "    <tr style=\"text-align: right;\">\n",
       "      <th></th>\n",
       "      <th>count</th>\n",
       "      <th>mean</th>\n",
       "      <th>std</th>\n",
       "      <th>min</th>\n",
       "      <th>25%</th>\n",
       "      <th>50%</th>\n",
       "      <th>75%</th>\n",
       "      <th>max</th>\n",
       "    </tr>\n",
       "  </thead>\n",
       "  <tbody>\n",
       "    <tr>\n",
       "      <th>Latitude</th>\n",
       "      <td>660654.0</td>\n",
       "      <td>52.553866</td>\n",
       "      <td>1.406922</td>\n",
       "      <td>49.914430</td>\n",
       "      <td>51.490690</td>\n",
       "      <td>52.315641</td>\n",
       "      <td>53.453452</td>\n",
       "      <td>60.757544</td>\n",
       "    </tr>\n",
       "    <tr>\n",
       "      <th>Longitude</th>\n",
       "      <td>660653.0</td>\n",
       "      <td>-1.431210</td>\n",
       "      <td>1.383330</td>\n",
       "      <td>-7.516225</td>\n",
       "      <td>-2.332291</td>\n",
       "      <td>-1.411667</td>\n",
       "      <td>-0.232869</td>\n",
       "      <td>1.762010</td>\n",
       "    </tr>\n",
       "    <tr>\n",
       "      <th>Number_of_Casualties</th>\n",
       "      <td>660679.0</td>\n",
       "      <td>1.357040</td>\n",
       "      <td>0.824847</td>\n",
       "      <td>1.000000</td>\n",
       "      <td>1.000000</td>\n",
       "      <td>1.000000</td>\n",
       "      <td>1.000000</td>\n",
       "      <td>68.000000</td>\n",
       "    </tr>\n",
       "    <tr>\n",
       "      <th>Number_of_Vehicles</th>\n",
       "      <td>660679.0</td>\n",
       "      <td>1.831255</td>\n",
       "      <td>0.715269</td>\n",
       "      <td>1.000000</td>\n",
       "      <td>1.000000</td>\n",
       "      <td>2.000000</td>\n",
       "      <td>2.000000</td>\n",
       "      <td>32.000000</td>\n",
       "    </tr>\n",
       "  </tbody>\n",
       "</table>\n",
       "</div>"
      ],
      "text/plain": [
       "                         count       mean       std        min        25%  \\\n",
       "Latitude              660654.0  52.553866  1.406922  49.914430  51.490690   \n",
       "Longitude             660653.0  -1.431210  1.383330  -7.516225  -2.332291   \n",
       "Number_of_Casualties  660679.0   1.357040  0.824847   1.000000   1.000000   \n",
       "Number_of_Vehicles    660679.0   1.831255  0.715269   1.000000   1.000000   \n",
       "\n",
       "                            50%        75%        max  \n",
       "Latitude              52.315641  53.453452  60.757544  \n",
       "Longitude             -1.411667  -0.232869   1.762010  \n",
       "Number_of_Casualties   1.000000   1.000000  68.000000  \n",
       "Number_of_Vehicles     2.000000   2.000000  32.000000  "
      ]
     },
     "execution_count": 5,
     "metadata": {},
     "output_type": "execute_result"
    }
   ],
   "source": [
    "accident.describe().T"
   ]
  },
  {
   "cell_type": "markdown",
   "id": "e76b4cef-eb38-40fd-870c-8be0d589c2d0",
   "metadata": {},
   "source": [
    "<h2>5. Call Each Column Individually</h2>"
   ]
  },
  {
   "cell_type": "code",
   "execution_count": 6,
   "id": "7550a5f2-1203-412d-8f48-c3c2064ed9c3",
   "metadata": {},
   "outputs": [
    {
     "data": {
      "text/plain": [
       "0         200701BS64157\n",
       "1         200701BS65737\n",
       "2         200701BS66127\n",
       "3         200701BS66128\n",
       "4         200701BS66837\n",
       "              ...      \n",
       "660674    201091NM01760\n",
       "660675    201091NM01881\n",
       "660676    201091NM01935\n",
       "660677    201091NM01964\n",
       "660678    201091NM02142\n",
       "Name: Index, Length: 660679, dtype: object"
      ]
     },
     "execution_count": 6,
     "metadata": {},
     "output_type": "execute_result"
    }
   ],
   "source": [
    "accident['Index']"
   ]
  },
  {
   "cell_type": "code",
   "execution_count": 7,
   "id": "c26a6bbc-d87d-4a6f-8872-567df85df406",
   "metadata": {},
   "outputs": [
    {
     "data": {
      "text/plain": [
       "0         Serious\n",
       "1         Serious\n",
       "2         Serious\n",
       "3         Serious\n",
       "4          Slight\n",
       "           ...   \n",
       "660674     Slight\n",
       "660675     Slight\n",
       "660676     Slight\n",
       "660677    Serious\n",
       "660678    Serious\n",
       "Name: Accident_Severity, Length: 660679, dtype: object"
      ]
     },
     "execution_count": 7,
     "metadata": {},
     "output_type": "execute_result"
    }
   ],
   "source": [
    "accident['Accident_Severity']"
   ]
  },
  {
   "cell_type": "code",
   "execution_count": 8,
   "id": "5942054b-6dfc-4de9-93b8-47d7e685d460",
   "metadata": {},
   "outputs": [
    {
     "data": {
      "text/plain": [
       "0           5/6/2019\n",
       "1           2/7/2019\n",
       "2         26-08-2019\n",
       "3         16-08-2019\n",
       "4           3/9/2019\n",
       "             ...    \n",
       "660674    18-02-2022\n",
       "660675    21-02-2022\n",
       "660676    23-02-2022\n",
       "660677    23-02-2022\n",
       "660678    28-02-2022\n",
       "Name: Accident Date, Length: 660679, dtype: object"
      ]
     },
     "execution_count": 8,
     "metadata": {},
     "output_type": "execute_result"
    }
   ],
   "source": [
    "accident['Accident Date']"
   ]
  },
  {
   "cell_type": "code",
   "execution_count": 9,
   "id": "9dadcb8b-a4e6-481a-ab32-7c2e847eb922",
   "metadata": {},
   "outputs": [
    {
     "data": {
      "text/plain": [
       "0         51.506187\n",
       "1         51.495029\n",
       "2         51.517715\n",
       "3         51.495478\n",
       "4         51.488576\n",
       "            ...    \n",
       "660674    57.374005\n",
       "660675    57.232273\n",
       "660676    57.585044\n",
       "660677    57.214898\n",
       "660678    57.575210\n",
       "Name: Latitude, Length: 660679, dtype: float64"
      ]
     },
     "execution_count": 9,
     "metadata": {},
     "output_type": "execute_result"
    }
   ],
   "source": [
    "accident['Latitude']"
   ]
  },
  {
   "cell_type": "code",
   "execution_count": 10,
   "id": "843d3d72-053a-4e4d-aafa-6d4b2a08ec7e",
   "metadata": {},
   "outputs": [
    {
     "data": {
      "text/plain": [
       "0               Darkness - lights lit\n",
       "1                            Daylight\n",
       "2         Darkness - lighting unknown\n",
       "3                            Daylight\n",
       "4               Darkness - lights lit\n",
       "                     ...             \n",
       "660674                       Daylight\n",
       "660675         Darkness - no lighting\n",
       "660676                       Daylight\n",
       "660677         Darkness - no lighting\n",
       "660678                       Daylight\n",
       "Name: Light_Conditions, Length: 660679, dtype: object"
      ]
     },
     "execution_count": 10,
     "metadata": {},
     "output_type": "execute_result"
    }
   ],
   "source": [
    "accident['Light_Conditions']"
   ]
  },
  {
   "cell_type": "code",
   "execution_count": 11,
   "id": "20aa19a3-b04b-424d-9f29-17f053415ee0",
   "metadata": {},
   "outputs": [
    {
     "data": {
      "text/plain": [
       "0         Kensington and Chelsea\n",
       "1         Kensington and Chelsea\n",
       "2         Kensington and Chelsea\n",
       "3         Kensington and Chelsea\n",
       "4         Kensington and Chelsea\n",
       "                   ...          \n",
       "660674                  Highland\n",
       "660675                  Highland\n",
       "660676                  Highland\n",
       "660677                  Highland\n",
       "660678                  Highland\n",
       "Name: District Area, Length: 660679, dtype: object"
      ]
     },
     "execution_count": 11,
     "metadata": {},
     "output_type": "execute_result"
    }
   ],
   "source": [
    "accident['District Area']"
   ]
  },
  {
   "cell_type": "code",
   "execution_count": 12,
   "id": "042899eb-457b-4366-89e3-aae459354d25",
   "metadata": {},
   "outputs": [
    {
     "data": {
      "text/plain": [
       "0        -0.209082\n",
       "1        -0.173647\n",
       "2        -0.210215\n",
       "3        -0.202731\n",
       "4        -0.192487\n",
       "            ...   \n",
       "660674   -3.467828\n",
       "660675   -3.809281\n",
       "660676   -3.862727\n",
       "660677   -3.823997\n",
       "660678   -3.895673\n",
       "Name: Longitude, Length: 660679, dtype: float64"
      ]
     },
     "execution_count": 12,
     "metadata": {},
     "output_type": "execute_result"
    }
   ],
   "source": [
    "accident['Longitude']"
   ]
  },
  {
   "cell_type": "code",
   "execution_count": 13,
   "id": "5407bd4d-8290-49ad-903f-08d3f70d8725",
   "metadata": {},
   "outputs": [
    {
     "data": {
      "text/plain": [
       "0         1\n",
       "1         1\n",
       "2         1\n",
       "3         1\n",
       "4         1\n",
       "         ..\n",
       "660674    2\n",
       "660675    1\n",
       "660676    1\n",
       "660677    1\n",
       "660678    1\n",
       "Name: Number_of_Casualties, Length: 660679, dtype: int64"
      ]
     },
     "execution_count": 13,
     "metadata": {},
     "output_type": "execute_result"
    }
   ],
   "source": [
    "accident['Number_of_Casualties']"
   ]
  },
  {
   "cell_type": "code",
   "execution_count": 14,
   "id": "e7882c14-0fa8-446f-903f-cdb73006690b",
   "metadata": {},
   "outputs": [
    {
     "data": {
      "text/plain": [
       "0         2\n",
       "1         2\n",
       "2         3\n",
       "3         4\n",
       "4         2\n",
       "         ..\n",
       "660674    1\n",
       "660675    1\n",
       "660676    3\n",
       "660677    2\n",
       "660678    1\n",
       "Name: Number_of_Vehicles, Length: 660679, dtype: int64"
      ]
     },
     "execution_count": 14,
     "metadata": {},
     "output_type": "execute_result"
    }
   ],
   "source": [
    "accident['Number_of_Vehicles']"
   ]
  },
  {
   "cell_type": "code",
   "execution_count": 15,
   "id": "7728178b-0455-4b45-adbe-6a959a142b30",
   "metadata": {},
   "outputs": [
    {
     "data": {
      "text/plain": [
       "0                  Dry\n",
       "1          Wet or damp\n",
       "2                  Dry\n",
       "3                  Dry\n",
       "4                  Dry\n",
       "              ...     \n",
       "660674             Dry\n",
       "660675    Frost or ice\n",
       "660676    Frost or ice\n",
       "660677     Wet or damp\n",
       "660678     Wet or damp\n",
       "Name: Road_Surface_Conditions, Length: 660679, dtype: object"
      ]
     },
     "execution_count": 15,
     "metadata": {},
     "output_type": "execute_result"
    }
   ],
   "source": [
    "accident['Road_Surface_Conditions']"
   ]
  },
  {
   "cell_type": "code",
   "execution_count": 16,
   "id": "66055c7d-4bab-4d17-8572-e77683378594",
   "metadata": {},
   "outputs": [
    {
     "data": {
      "text/plain": [
       "0         Single carriageway\n",
       "1         Single carriageway\n",
       "2                        NaN\n",
       "3         Single carriageway\n",
       "4                        NaN\n",
       "                 ...        \n",
       "660674    Single carriageway\n",
       "660675    Single carriageway\n",
       "660676    Single carriageway\n",
       "660677    Single carriageway\n",
       "660678      Dual carriageway\n",
       "Name: Road_Type, Length: 660679, dtype: object"
      ]
     },
     "execution_count": 16,
     "metadata": {},
     "output_type": "execute_result"
    }
   ],
   "source": [
    "accident['Road_Type']"
   ]
  },
  {
   "cell_type": "code",
   "execution_count": 17,
   "id": "686e4ca3-fca1-4581-8285-070a3875596a",
   "metadata": {},
   "outputs": [
    {
     "data": {
      "text/plain": [
       "0         Urban\n",
       "1         Urban\n",
       "2         Urban\n",
       "3         Urban\n",
       "4         Urban\n",
       "          ...  \n",
       "660674    Rural\n",
       "660675    Rural\n",
       "660676    Rural\n",
       "660677    Rural\n",
       "660678    Rural\n",
       "Name: Urban_or_Rural_Area, Length: 660679, dtype: object"
      ]
     },
     "execution_count": 17,
     "metadata": {},
     "output_type": "execute_result"
    }
   ],
   "source": [
    "accident['Urban_or_Rural_Area']"
   ]
  },
  {
   "cell_type": "code",
   "execution_count": 18,
   "id": "32fe1e43-30a9-4371-8063-58e7128efec2",
   "metadata": {},
   "outputs": [
    {
     "data": {
      "text/plain": [
       "0            Fine no high winds\n",
       "1         Raining no high winds\n",
       "2                           NaN\n",
       "3            Fine no high winds\n",
       "4                           NaN\n",
       "                  ...          \n",
       "660674       Fine no high winds\n",
       "660675       Fine no high winds\n",
       "660676       Fine no high winds\n",
       "660677       Fine no high winds\n",
       "660678    Snowing no high winds\n",
       "Name: Weather_Conditions, Length: 660679, dtype: object"
      ]
     },
     "execution_count": 18,
     "metadata": {},
     "output_type": "execute_result"
    }
   ],
   "source": [
    "accident['Weather_Conditions']"
   ]
  },
  {
   "cell_type": "code",
   "execution_count": 19,
   "id": "a5a5d93e-32c0-42eb-b0c7-367b54d8a5a6",
   "metadata": {},
   "outputs": [
    {
     "data": {
      "text/plain": [
       "0                                          Car\n",
       "1                                          Car\n",
       "2                        Taxi/Private hire car\n",
       "3         Bus or coach (17 or more pass seats)\n",
       "4                                Other vehicle\n",
       "                          ...                 \n",
       "660674                                     Car\n",
       "660675                                     Car\n",
       "660676                                     Car\n",
       "660677                   Motorcycle over 500cc\n",
       "660678                                     Car\n",
       "Name: Vehicle_Type, Length: 660679, dtype: object"
      ]
     },
     "execution_count": 19,
     "metadata": {},
     "output_type": "execute_result"
    }
   ],
   "source": [
    "accident['Vehicle_Type']"
   ]
  },
  {
   "cell_type": "markdown",
   "id": "08660d8a-58e9-4228-bbaa-acfbfb01c918",
   "metadata": {},
   "source": [
    "<h2>6. Check For Null Values</h2>"
   ]
  },
  {
   "cell_type": "code",
   "execution_count": 20,
   "id": "6c0c1ac7-0e4e-420d-81b6-fa9a135a2654",
   "metadata": {},
   "outputs": [
    {
     "data": {
      "text/plain": [
       "Index                          0\n",
       "Accident_Severity              0\n",
       "Accident Date                  0\n",
       "Latitude                      25\n",
       "Light_Conditions               0\n",
       "District Area                  0\n",
       "Longitude                     26\n",
       "Number_of_Casualties           0\n",
       "Number_of_Vehicles             0\n",
       "Road_Surface_Conditions      726\n",
       "Road_Type                   4520\n",
       "Urban_or_Rural_Area           15\n",
       "Weather_Conditions         14128\n",
       "Vehicle_Type                   0\n",
       "dtype: int64"
      ]
     },
     "execution_count": 20,
     "metadata": {},
     "output_type": "execute_result"
    }
   ],
   "source": [
    "accident.isnull().sum()"
   ]
  },
  {
   "cell_type": "markdown",
   "id": "737ae6d0-2db4-4d02-a983-d953d5d94aaa",
   "metadata": {},
   "source": [
    "<h2>7. Fill Null Values with statistical values</h2>"
   ]
  },
  {
   "cell_type": "code",
   "execution_count": 21,
   "id": "157ea07e-a156-4e15-97de-cc18431baded",
   "metadata": {},
   "outputs": [],
   "source": [
    "accident['Accident_Severity'] = accident['Accident_Severity'].fillna(accident['Accident_Severity'].mode()[0])\n",
    "accident['Light_Conditions'] = accident['Light_Conditions'].fillna(accident['Light_Conditions'].mode()[0])\n",
    "accident['Road_Surface_Conditions'] = accident['Road_Surface_Conditions'].fillna(accident['Road_Surface_Conditions'].mode()[0])\n",
    "accident['Number_of_Casualties'] = accident['Number_of_Casualties'].fillna(accident['Number_of_Casualties'].median())\n",
    "accident['Number_of_Vehicles'] = accident['Number_of_Vehicles'].fillna(accident['Number_of_Vehicles'].median())\n",
    "accident['District Area'] = accident['District Area'].fillna(accident['District Area'].mode()[0])"
   ]
  },
  {
   "cell_type": "code",
   "execution_count": 22,
   "id": "2de753a2-34b4-4298-8e3a-c7ffddaf1edd",
   "metadata": {},
   "outputs": [
    {
     "data": {
      "text/plain": [
       "Index                          0\n",
       "Accident_Severity              0\n",
       "Accident Date                  0\n",
       "Latitude                      25\n",
       "Light_Conditions               0\n",
       "District Area                  0\n",
       "Longitude                     26\n",
       "Number_of_Casualties           0\n",
       "Number_of_Vehicles             0\n",
       "Road_Surface_Conditions        0\n",
       "Road_Type                   4520\n",
       "Urban_or_Rural_Area           15\n",
       "Weather_Conditions         14128\n",
       "Vehicle_Type                   0\n",
       "dtype: int64"
      ]
     },
     "execution_count": 22,
     "metadata": {},
     "output_type": "execute_result"
    }
   ],
   "source": [
    "accident.isnull().sum()"
   ]
  },
  {
   "cell_type": "markdown",
   "id": "32ccdba5-197e-4a7c-9d54-f0fe8cb53f6b",
   "metadata": {},
   "source": [
    "<h2>8. Check Column Data Types</h2>"
   ]
  },
  {
   "cell_type": "code",
   "execution_count": 23,
   "id": "a057745d-9904-4190-91b8-7c1180d969a9",
   "metadata": {},
   "outputs": [
    {
     "data": {
      "text/plain": [
       "<bound method DataFrame.info of                 Index Accident_Severity Accident Date   Latitude  \\\n",
       "0       200701BS64157           Serious      5/6/2019  51.506187   \n",
       "1       200701BS65737           Serious      2/7/2019  51.495029   \n",
       "2       200701BS66127           Serious    26-08-2019  51.517715   \n",
       "3       200701BS66128           Serious    16-08-2019  51.495478   \n",
       "4       200701BS66837            Slight      3/9/2019  51.488576   \n",
       "...               ...               ...           ...        ...   \n",
       "660674  201091NM01760            Slight    18-02-2022  57.374005   \n",
       "660675  201091NM01881            Slight    21-02-2022  57.232273   \n",
       "660676  201091NM01935            Slight    23-02-2022  57.585044   \n",
       "660677  201091NM01964           Serious    23-02-2022  57.214898   \n",
       "660678  201091NM02142           Serious    28-02-2022  57.575210   \n",
       "\n",
       "                   Light_Conditions           District Area  Longitude  \\\n",
       "0             Darkness - lights lit  Kensington and Chelsea  -0.209082   \n",
       "1                          Daylight  Kensington and Chelsea  -0.173647   \n",
       "2       Darkness - lighting unknown  Kensington and Chelsea  -0.210215   \n",
       "3                          Daylight  Kensington and Chelsea  -0.202731   \n",
       "4             Darkness - lights lit  Kensington and Chelsea  -0.192487   \n",
       "...                             ...                     ...        ...   \n",
       "660674                     Daylight                Highland  -3.467828   \n",
       "660675       Darkness - no lighting                Highland  -3.809281   \n",
       "660676                     Daylight                Highland  -3.862727   \n",
       "660677       Darkness - no lighting                Highland  -3.823997   \n",
       "660678                     Daylight                Highland  -3.895673   \n",
       "\n",
       "        Number_of_Casualties  Number_of_Vehicles Road_Surface_Conditions  \\\n",
       "0                          1                   2                     Dry   \n",
       "1                          1                   2             Wet or damp   \n",
       "2                          1                   3                     Dry   \n",
       "3                          1                   4                     Dry   \n",
       "4                          1                   2                     Dry   \n",
       "...                      ...                 ...                     ...   \n",
       "660674                     2                   1                     Dry   \n",
       "660675                     1                   1            Frost or ice   \n",
       "660676                     1                   3            Frost or ice   \n",
       "660677                     1                   2             Wet or damp   \n",
       "660678                     1                   1             Wet or damp   \n",
       "\n",
       "                 Road_Type Urban_or_Rural_Area     Weather_Conditions  \\\n",
       "0       Single carriageway               Urban     Fine no high winds   \n",
       "1       Single carriageway               Urban  Raining no high winds   \n",
       "2                      NaN               Urban                    NaN   \n",
       "3       Single carriageway               Urban     Fine no high winds   \n",
       "4                      NaN               Urban                    NaN   \n",
       "...                    ...                 ...                    ...   \n",
       "660674  Single carriageway               Rural     Fine no high winds   \n",
       "660675  Single carriageway               Rural     Fine no high winds   \n",
       "660676  Single carriageway               Rural     Fine no high winds   \n",
       "660677  Single carriageway               Rural     Fine no high winds   \n",
       "660678    Dual carriageway               Rural  Snowing no high winds   \n",
       "\n",
       "                                Vehicle_Type  \n",
       "0                                        Car  \n",
       "1                                        Car  \n",
       "2                      Taxi/Private hire car  \n",
       "3       Bus or coach (17 or more pass seats)  \n",
       "4                              Other vehicle  \n",
       "...                                      ...  \n",
       "660674                                   Car  \n",
       "660675                                   Car  \n",
       "660676                                   Car  \n",
       "660677                 Motorcycle over 500cc  \n",
       "660678                                   Car  \n",
       "\n",
       "[660679 rows x 14 columns]>"
      ]
     },
     "execution_count": 23,
     "metadata": {},
     "output_type": "execute_result"
    }
   ],
   "source": [
    "accident.info"
   ]
  },
  {
   "cell_type": "code",
   "execution_count": 73,
   "id": "fc4a9b37-7233-4675-acfc-49244d98498c",
   "metadata": {},
   "outputs": [
    {
     "data": {
      "text/plain": [
       "Index                           0\n",
       "Accident_Severity               0\n",
       "Accident Date              395672\n",
       "Latitude                        0\n",
       "Light_Conditions                0\n",
       "District Area                   0\n",
       "Longitude                       0\n",
       "Number_of_Casualties            0\n",
       "Number_of_Vehicles              0\n",
       "Road_Surface_Conditions         0\n",
       "Road_Type                       0\n",
       "Urban_or_Rural_Area            15\n",
       "Weather_Conditions              0\n",
       "Vehicle_Type                    0\n",
       "Year                       395672\n",
       "Month                      395672\n",
       "Day                        395672\n",
       "DayofWeek                       0\n",
       "Hour                            0\n",
       "Time_of_Day                     0\n",
       "DayOfWeek                  395672\n",
       "dtype: int64"
      ]
     },
     "execution_count": 73,
     "metadata": {},
     "output_type": "execute_result"
    }
   ],
   "source": [
    "# Step 1: Convert to string only if not null\n",
    "accident['Accident Date'] = accident['Accident Date'].astype(str)\n",
    "# Step 2: Replace '/' with '-' safely\n",
    "accident['Accident Date'] = accident['Accident Date'].apply(lambda x: x.replace('/', '-') if pd.notnull(x) else x)\n",
    "# Step 3: Strip whitespace\n",
    "accident['Accident Date'] = accident['Accident Date'].apply(lambda x: x.strip() if pd.notnull(x) else x)\n",
    "# Step 4: Convert to datetime\n",
    "accident['Accident Date'] = pd.to_datetime(accident['Accident Date'], dayfirst=True, errors='coerce')\n",
    "\n",
    "\n",
    "accident['Latitude'] = accident['Latitude'].fillna(accident['Latitude'].mode()[0])\n",
    "accident['Longitude'] = accident['Longitude'].fillna(accident['Longitude'].mode()[0])\n",
    "accident['Road_Surface_Conditions'] = accident['Road_Surface_Conditions'].fillna('unaccounted')\n",
    "accident['Road_Type'] = accident['Road_Type'].fillna('unaccounted')\n",
    "accident['Weather_Conditions'] = accident['Weather_Conditions'].fillna('unaccounted')\n",
    "\n",
    "accident.dtypes\n",
    "accident.isnull().sum()\n",
    "\n",
    "accident['Year'] = accident['Accident Date'].dt.year\n",
    "accident['Month'] =  accident['Accident Date'].dt.month\n",
    "accident['Day'] =  accident['Accident Date'].dt.day\n",
    "accident['DayOfWeek'] =  accident['Accident Date'].dt.dayofweek\n",
    "accident.isnull().sum()"
   ]
  },
  {
   "cell_type": "markdown",
   "id": "bc36c998-64fe-4a94-b024-4e0cb8d6dd51",
   "metadata": {},
   "source": [
    "<h2>Clearing any Inconsistencies with the Data Set</h2>"
   ]
  },
  {
   "cell_type": "code",
   "execution_count": 24,
   "id": "f1756c7f-38ab-4edb-8b28-049b4f435230",
   "metadata": {},
   "outputs": [],
   "source": [
    "accident['Accident Date'] = accident['Accident Date'].str.strip()"
   ]
  },
  {
   "cell_type": "code",
   "execution_count": 25,
   "id": "90e78f1e-c61d-4fd3-a7f2-16d6748dc4ad",
   "metadata": {},
   "outputs": [],
   "source": [
    "accident['Accident Date'] = accident['Accident Date'].astype('str')"
   ]
  },
  {
   "cell_type": "code",
   "execution_count": 26,
   "id": "fe5bf2e2-c957-4125-9c84-ba8923d56d75",
   "metadata": {},
   "outputs": [],
   "source": [
    "accident['Accident Date'] = accident['Accident Date'].str.replace('/', '-')"
   ]
  },
  {
   "cell_type": "code",
   "execution_count": 27,
   "id": "e7d6d812-783d-4fba-a5c7-a225657e26ad",
   "metadata": {},
   "outputs": [],
   "source": [
    "accident['Accident Date'] = pd.to_datetime(accident['Accident Date'], dayfirst = True, errors = 'coerce')"
   ]
  },
  {
   "cell_type": "markdown",
   "id": "ae740307-dabb-4faf-89d5-b5df1f449f1f",
   "metadata": {},
   "source": [
    "<h2>Adjusting Data Types</h2>"
   ]
  },
  {
   "cell_type": "code",
   "execution_count": 28,
   "id": "33e7996d-ebeb-421d-aeed-727ae3f82cd2",
   "metadata": {},
   "outputs": [
    {
     "data": {
      "text/plain": [
       "Index                              object\n",
       "Accident_Severity                  object\n",
       "Accident Date              datetime64[ns]\n",
       "Latitude                          float64\n",
       "Light_Conditions                   object\n",
       "District Area                      object\n",
       "Longitude                         float64\n",
       "Number_of_Casualties                int64\n",
       "Number_of_Vehicles                  int64\n",
       "Road_Surface_Conditions            object\n",
       "Road_Type                          object\n",
       "Urban_or_Rural_Area                object\n",
       "Weather_Conditions                 object\n",
       "Vehicle_Type                       object\n",
       "dtype: object"
      ]
     },
     "execution_count": 28,
     "metadata": {},
     "output_type": "execute_result"
    }
   ],
   "source": [
    "accident.dtypes"
   ]
  },
  {
   "cell_type": "markdown",
   "id": "c2877384-8c8e-4674-b9f7-ec11d9fcbf35",
   "metadata": {},
   "source": [
    "<h2>Extracting Date Informatiom Using Pandas Date Time</h2>"
   ]
  },
  {
   "cell_type": "code",
   "execution_count": 79,
   "id": "29ffb0a0-022e-4d4c-ad69-8dc2de30aa1a",
   "metadata": {},
   "outputs": [],
   "source": [
    "accident['Year'] = accident['Accident Date'].dt.year\n",
    "accident['Month'] =  accident['Accident Date'].dt.month\n",
    "accident['Day'] = accident['Accident Date'].dt.day\n",
    "accident['DayofWeek'] = accident['Accident Date'].dt.dayofweek"
   ]
  },
  {
   "cell_type": "code",
   "execution_count": 30,
   "id": "5f0c6cbd-24dc-4688-84e9-b03066c0c0cc",
   "metadata": {},
   "outputs": [
    {
     "data": {
      "text/plain": [
       "Index                          0\n",
       "Accident_Severity              0\n",
       "Accident Date                  0\n",
       "Latitude                      25\n",
       "Light_Conditions               0\n",
       "District Area                  0\n",
       "Longitude                     26\n",
       "Number_of_Casualties           0\n",
       "Number_of_Vehicles             0\n",
       "Road_Surface_Conditions        0\n",
       "Road_Type                   4520\n",
       "Urban_or_Rural_Area           15\n",
       "Weather_Conditions         14128\n",
       "Vehicle_Type                   0\n",
       "Year                           0\n",
       "Month                          0\n",
       "Day                            0\n",
       "DayofWeek                      0\n",
       "dtype: int64"
      ]
     },
     "execution_count": 30,
     "metadata": {},
     "output_type": "execute_result"
    }
   ],
   "source": [
    "accident.isnull().sum()"
   ]
  },
  {
   "cell_type": "markdown",
   "id": "3670d144-ea4a-4c93-a043-1b683001e590",
   "metadata": {},
   "source": [
    "<h2>Advanced Groupby Functions</h2>\n",
    "<ul>\n",
    "    <li>UNSTUCK | unstack()</li>\n",
    "    <li>RESET_INDEX | reset_index()</li>\n",
    "</ul>"
   ]
  },
  {
   "cell_type": "code",
   "execution_count": 31,
   "id": "54c16220-f798-4624-933b-4faddef590e0",
   "metadata": {},
   "outputs": [
    {
     "data": {
      "text/plain": [
       "Accident_Severity  Year\n",
       "Fatal              2019      2714\n",
       "                   2020      2341\n",
       "                   2021      2057\n",
       "                   2022      1549\n",
       "Serious            2019     24322\n",
       "                   2020     23121\n",
       "                   2021     21997\n",
       "                   2022     18777\n",
       "Slight             2019    155079\n",
       "                   2020    145129\n",
       "                   2021    139500\n",
       "                   2022    124093\n",
       "dtype: int64"
      ]
     },
     "execution_count": 31,
     "metadata": {},
     "output_type": "execute_result"
    }
   ],
   "source": [
    "accident.dtypes\n",
    "\n",
    "severity = accident.groupby(['Accident_Severity', 'Year']).size()\n",
    "severity"
   ]
  },
  {
   "cell_type": "code",
   "execution_count": 32,
   "id": "03302a2a-15c1-4d85-9eac-91e4b0b1925c",
   "metadata": {},
   "outputs": [
    {
     "data": {
      "text/html": [
       "<div>\n",
       "<style scoped>\n",
       "    .dataframe tbody tr th:only-of-type {\n",
       "        vertical-align: middle;\n",
       "    }\n",
       "\n",
       "    .dataframe tbody tr th {\n",
       "        vertical-align: top;\n",
       "    }\n",
       "\n",
       "    .dataframe thead th {\n",
       "        text-align: right;\n",
       "    }\n",
       "</style>\n",
       "<table border=\"1\" class=\"dataframe\">\n",
       "  <thead>\n",
       "    <tr style=\"text-align: right;\">\n",
       "      <th>Year</th>\n",
       "      <th>2019</th>\n",
       "      <th>2020</th>\n",
       "      <th>2021</th>\n",
       "      <th>2022</th>\n",
       "    </tr>\n",
       "    <tr>\n",
       "      <th>Accident_Severity</th>\n",
       "      <th></th>\n",
       "      <th></th>\n",
       "      <th></th>\n",
       "      <th></th>\n",
       "    </tr>\n",
       "  </thead>\n",
       "  <tbody>\n",
       "    <tr>\n",
       "      <th>Fatal</th>\n",
       "      <td>2714</td>\n",
       "      <td>2341</td>\n",
       "      <td>2057</td>\n",
       "      <td>1549</td>\n",
       "    </tr>\n",
       "    <tr>\n",
       "      <th>Serious</th>\n",
       "      <td>24322</td>\n",
       "      <td>23121</td>\n",
       "      <td>21997</td>\n",
       "      <td>18777</td>\n",
       "    </tr>\n",
       "    <tr>\n",
       "      <th>Slight</th>\n",
       "      <td>155079</td>\n",
       "      <td>145129</td>\n",
       "      <td>139500</td>\n",
       "      <td>124093</td>\n",
       "    </tr>\n",
       "  </tbody>\n",
       "</table>\n",
       "</div>"
      ],
      "text/plain": [
       "Year                 2019    2020    2021    2022\n",
       "Accident_Severity                                \n",
       "Fatal                2714    2341    2057    1549\n",
       "Serious             24322   23121   21997   18777\n",
       "Slight             155079  145129  139500  124093"
      ]
     },
     "execution_count": 32,
     "metadata": {},
     "output_type": "execute_result"
    }
   ],
   "source": [
    "severity2 = accident.groupby(['Accident_Severity', 'Year']).size()\n",
    "severity2.unstack()"
   ]
  },
  {
   "cell_type": "code",
   "execution_count": 33,
   "id": "6509bae9-2900-48d6-879e-a8d443796f47",
   "metadata": {},
   "outputs": [
    {
     "data": {
      "text/html": [
       "<div>\n",
       "<style scoped>\n",
       "    .dataframe tbody tr th:only-of-type {\n",
       "        vertical-align: middle;\n",
       "    }\n",
       "\n",
       "    .dataframe tbody tr th {\n",
       "        vertical-align: top;\n",
       "    }\n",
       "\n",
       "    .dataframe thead th {\n",
       "        text-align: right;\n",
       "    }\n",
       "</style>\n",
       "<table border=\"1\" class=\"dataframe\">\n",
       "  <thead>\n",
       "    <tr style=\"text-align: right;\">\n",
       "      <th>Accident_Severity</th>\n",
       "      <th>Fatal</th>\n",
       "      <th>Serious</th>\n",
       "      <th>Slight</th>\n",
       "    </tr>\n",
       "    <tr>\n",
       "      <th>Year</th>\n",
       "      <th></th>\n",
       "      <th></th>\n",
       "      <th></th>\n",
       "    </tr>\n",
       "  </thead>\n",
       "  <tbody>\n",
       "    <tr>\n",
       "      <th>2019</th>\n",
       "      <td>2714</td>\n",
       "      <td>24322</td>\n",
       "      <td>155079</td>\n",
       "    </tr>\n",
       "    <tr>\n",
       "      <th>2020</th>\n",
       "      <td>2341</td>\n",
       "      <td>23121</td>\n",
       "      <td>145129</td>\n",
       "    </tr>\n",
       "    <tr>\n",
       "      <th>2021</th>\n",
       "      <td>2057</td>\n",
       "      <td>21997</td>\n",
       "      <td>139500</td>\n",
       "    </tr>\n",
       "    <tr>\n",
       "      <th>2022</th>\n",
       "      <td>1549</td>\n",
       "      <td>18777</td>\n",
       "      <td>124093</td>\n",
       "    </tr>\n",
       "  </tbody>\n",
       "</table>\n",
       "</div>"
      ],
      "text/plain": [
       "Accident_Severity  Fatal  Serious  Slight\n",
       "Year                                     \n",
       "2019                2714    24322  155079\n",
       "2020                2341    23121  145129\n",
       "2021                2057    21997  139500\n",
       "2022                1549    18777  124093"
      ]
     },
     "execution_count": 33,
     "metadata": {},
     "output_type": "execute_result"
    }
   ],
   "source": [
    "severity3 = accident.groupby(['Accident_Severity', 'Year']).size()\n",
    "severity3.unstack(level=0)"
   ]
  },
  {
   "cell_type": "code",
   "execution_count": 34,
   "id": "320088b7-d36f-4b8f-b50d-ff32217cb49a",
   "metadata": {},
   "outputs": [
    {
     "data": {
      "text/html": [
       "<div>\n",
       "<style scoped>\n",
       "    .dataframe tbody tr th:only-of-type {\n",
       "        vertical-align: middle;\n",
       "    }\n",
       "\n",
       "    .dataframe tbody tr th {\n",
       "        vertical-align: top;\n",
       "    }\n",
       "\n",
       "    .dataframe thead th {\n",
       "        text-align: right;\n",
       "    }\n",
       "</style>\n",
       "<table border=\"1\" class=\"dataframe\">\n",
       "  <thead>\n",
       "    <tr style=\"text-align: right;\">\n",
       "      <th></th>\n",
       "      <th>Accident_Severity</th>\n",
       "      <th>Year</th>\n",
       "      <th>0</th>\n",
       "    </tr>\n",
       "  </thead>\n",
       "  <tbody>\n",
       "    <tr>\n",
       "      <th>0</th>\n",
       "      <td>Fatal</td>\n",
       "      <td>2019</td>\n",
       "      <td>2714</td>\n",
       "    </tr>\n",
       "    <tr>\n",
       "      <th>1</th>\n",
       "      <td>Fatal</td>\n",
       "      <td>2020</td>\n",
       "      <td>2341</td>\n",
       "    </tr>\n",
       "    <tr>\n",
       "      <th>2</th>\n",
       "      <td>Fatal</td>\n",
       "      <td>2021</td>\n",
       "      <td>2057</td>\n",
       "    </tr>\n",
       "    <tr>\n",
       "      <th>3</th>\n",
       "      <td>Fatal</td>\n",
       "      <td>2022</td>\n",
       "      <td>1549</td>\n",
       "    </tr>\n",
       "    <tr>\n",
       "      <th>4</th>\n",
       "      <td>Serious</td>\n",
       "      <td>2019</td>\n",
       "      <td>24322</td>\n",
       "    </tr>\n",
       "    <tr>\n",
       "      <th>5</th>\n",
       "      <td>Serious</td>\n",
       "      <td>2020</td>\n",
       "      <td>23121</td>\n",
       "    </tr>\n",
       "    <tr>\n",
       "      <th>6</th>\n",
       "      <td>Serious</td>\n",
       "      <td>2021</td>\n",
       "      <td>21997</td>\n",
       "    </tr>\n",
       "    <tr>\n",
       "      <th>7</th>\n",
       "      <td>Serious</td>\n",
       "      <td>2022</td>\n",
       "      <td>18777</td>\n",
       "    </tr>\n",
       "    <tr>\n",
       "      <th>8</th>\n",
       "      <td>Slight</td>\n",
       "      <td>2019</td>\n",
       "      <td>155079</td>\n",
       "    </tr>\n",
       "    <tr>\n",
       "      <th>9</th>\n",
       "      <td>Slight</td>\n",
       "      <td>2020</td>\n",
       "      <td>145129</td>\n",
       "    </tr>\n",
       "    <tr>\n",
       "      <th>10</th>\n",
       "      <td>Slight</td>\n",
       "      <td>2021</td>\n",
       "      <td>139500</td>\n",
       "    </tr>\n",
       "    <tr>\n",
       "      <th>11</th>\n",
       "      <td>Slight</td>\n",
       "      <td>2022</td>\n",
       "      <td>124093</td>\n",
       "    </tr>\n",
       "  </tbody>\n",
       "</table>\n",
       "</div>"
      ],
      "text/plain": [
       "   Accident_Severity  Year       0\n",
       "0              Fatal  2019    2714\n",
       "1              Fatal  2020    2341\n",
       "2              Fatal  2021    2057\n",
       "3              Fatal  2022    1549\n",
       "4            Serious  2019   24322\n",
       "5            Serious  2020   23121\n",
       "6            Serious  2021   21997\n",
       "7            Serious  2022   18777\n",
       "8             Slight  2019  155079\n",
       "9             Slight  2020  145129\n",
       "10            Slight  2021  139500\n",
       "11            Slight  2022  124093"
      ]
     },
     "execution_count": 34,
     "metadata": {},
     "output_type": "execute_result"
    }
   ],
   "source": [
    "severity3 = accident.groupby(['Accident_Severity', 'Year']).size()\n",
    "severity3.reset_index()"
   ]
  },
  {
   "cell_type": "code",
   "execution_count": 69,
   "id": "152beecc-f9b9-4868-be49-e7bc596621b5",
   "metadata": {},
   "outputs": [
    {
     "data": {
      "text/plain": [
       "<function matplotlib.pyplot.show(close=None, block=None)>"
      ]
     },
     "execution_count": 69,
     "metadata": {},
     "output_type": "execute_result"
    },
    {
     "data": {
      "image/png": "[encoded data removed]",
      "text/plain": [
       "<Figure size 1000x500 with 1 Axes>"
      ]
     },
     "metadata": {},
     "output_type": "display_data"
    }
   ],
   "source": [
    "monthly_data = accident.groupby(['Year', 'Month']).size()\n",
    "monthly_data = monthly_data.unstack(level=0)\n",
    "monthly_data.plot(marker='>', figsize=(10,5), title='Monthly Road Accidents by Year (2022)')\n",
    "\n",
    "plt.xticks(range(1, 13), ['Jan', 'Feb', 'Mar', 'Apr', 'May', 'Jun', 'Jul', 'Aug', 'Sep', 'Oct', 'Nov', 'Dec'])\n",
    "plt.grid(alpha=0.5)\n",
    "plt.show"
   ]
  },
  {
   "cell_type": "code",
   "execution_count": 67,
   "id": "fccae216-1eac-4dce-a122-830d6a9423cb",
   "metadata": {},
   "outputs": [
    {
     "data": {
      "text/html": [
       "<div>\n",
       "<style scoped>\n",
       "    .dataframe tbody tr th:only-of-type {\n",
       "        vertical-align: middle;\n",
       "    }\n",
       "\n",
       "    .dataframe tbody tr th {\n",
       "        vertical-align: top;\n",
       "    }\n",
       "\n",
       "    .dataframe thead th {\n",
       "        text-align: right;\n",
       "    }\n",
       "</style>\n",
       "<table border=\"1\" class=\"dataframe\">\n",
       "  <thead>\n",
       "    <tr style=\"text-align: right;\">\n",
       "      <th></th>\n",
       "      <th>Index</th>\n",
       "      <th>Accident_Severity</th>\n",
       "      <th>Accident Date</th>\n",
       "      <th>Latitude</th>\n",
       "      <th>Light_Conditions</th>\n",
       "      <th>District Area</th>\n",
       "      <th>Longitude</th>\n",
       "      <th>Number_of_Casualties</th>\n",
       "      <th>Number_of_Vehicles</th>\n",
       "      <th>Road_Surface_Conditions</th>\n",
       "      <th>Road_Type</th>\n",
       "      <th>Urban_or_Rural_Area</th>\n",
       "      <th>Weather_Conditions</th>\n",
       "      <th>Vehicle_Type</th>\n",
       "      <th>Year</th>\n",
       "      <th>Month</th>\n",
       "      <th>Day</th>\n",
       "      <th>DayofWeek</th>\n",
       "      <th>Hour</th>\n",
       "      <th>Time_of_Day</th>\n",
       "    </tr>\n",
       "  </thead>\n",
       "  <tbody>\n",
       "  </tbody>\n",
       "</table>\n",
       "</div>"
      ],
      "text/plain": [
       "Empty DataFrame\n",
       "Columns: [Index, Accident_Severity, Accident Date, Latitude, Light_Conditions, District Area, Longitude, Number_of_Casualties, Number_of_Vehicles, Road_Surface_Conditions, Road_Type, Urban_or_Rural_Area, Weather_Conditions, Vehicle_Type, Year, Month, Day, DayofWeek, Hour, Time_of_Day]\n",
       "Index: []"
      ]
     },
     "execution_count": 67,
     "metadata": {},
     "output_type": "execute_result"
    }
   ],
   "source": [
    "accident[accident['District Area'] == 'City of Londo']"
   ]
  },
  {
   "cell_type": "markdown",
   "id": "a4bc9367-71da-4783-a9b8-17018e954f7d",
   "metadata": {},
   "source": [
    "<h2>PIE CHART IN MATPLOTLIB</h2>"
   ]
  },
  {
   "cell_type": "code",
   "execution_count": 37,
   "id": "89cbabe5-bdc0-42ab-8e5f-d95060d20fdf",
   "metadata": {},
   "outputs": [],
   "source": [
    "severity = accident['Accident_Severity'].value_counts()"
   ]
  },
  {
   "cell_type": "code",
   "execution_count": 38,
   "id": "5bd19880-4fc9-42fc-8c46-00b12c3ac682",
   "metadata": {},
   "outputs": [
    {
     "data": {
      "text/plain": [
       "Index(['Slight', 'Serious', 'Fatal'], dtype='object', name='Accident_Severity')"
      ]
     },
     "execution_count": 38,
     "metadata": {},
     "output_type": "execute_result"
    }
   ],
   "source": [
    "severity.index"
   ]
  },
  {
   "cell_type": "code",
   "execution_count": 39,
   "id": "3f2fa893-5c79-40f9-b7a6-39bd477a4d16",
   "metadata": {},
   "outputs": [
    {
     "data": {
      "text/plain": [
       "array([563801,  88217,   8661])"
      ]
     },
     "execution_count": 39,
     "metadata": {},
     "output_type": "execute_result"
    }
   ],
   "source": [
    "severity.values"
   ]
  },
  {
   "cell_type": "code",
   "execution_count": 40,
   "id": "64ca2a57-fbad-4927-89d2-29865896343f",
   "metadata": {},
   "outputs": [
    {
     "data": {
      "image/png": "[encoded data removed]",
      "text/plain": [
       "<Figure size 640x480 with 1 Axes>"
      ]
     },
     "metadata": {},
     "output_type": "display_data"
    }
   ],
   "source": [
    "plt.pie(severity, labels = severity.index, startangle = 90, autopct = '%1.1f%%', colors = ['Peru','Cornflowerblue','Darksalmon'])\n",
    "plt.show()"
   ]
  },
  {
   "cell_type": "markdown",
   "id": "3eed3b60-4f95-43f9-9613-e5e3c871b3fa",
   "metadata": {},
   "source": [
    "<h1>Using District Area to make a comparison to a general result </h1>\n",
    "<h3>Shepway Analysis</h3>\n",
    "<img src = 'https://cdn.britannica.com/54/148754-050-9930A07D/St-Clements-Church-Old-Romney-Shepway-Eng.jpg'\\>"
   ]
  },
  {
   "cell_type": "code",
   "execution_count": 92,
   "id": "be2276d8-251d-40fc-8534-a7117466a392",
   "metadata": {},
   "outputs": [],
   "source": [
    "# df.dtypes\n",
    "Shepway_accident = accident[accident['District Area'] == 'Shepway']"
   ]
  },
  {
   "cell_type": "code",
   "execution_count": 91,
   "id": "d937a661-093c-4536-8e5d-7e51cbe6a65c",
   "metadata": {},
   "outputs": [
    {
     "data": {
      "image/png": "[encoded data removed]",
      "text/plain": [
       "<Figure size 1000x500 with 1 Axes>"
      ]
     },
     "metadata": {},
     "output_type": "display_data"
    }
   ],
   "source": [
    "monthly_londondata = Shepway_accident.groupby(['Year', 'Month', ]).size()\n",
    "\n",
    "monthly_londondata = monthly_londondata.unstack(level=0)\n",
    "\n",
    "monthly_londondata.plot(\n",
    "    marker='o', \n",
    "    figsize=(10, 5),\n",
    "    title='Monthly Road Accidents in Shepway by Year (2019-2022)'\n",
    ")\n",
    "plt.xticks(range(1, 13), ['Jan','Feb','Mar','Apr','May','Jun','Jul','Aug','Sep','Oct','Nov','Dec'])\n",
    "# plt.legend(title='Yearly Accident Comparison', bbox_to_anchor = (1.05,1), loc='upper left')\n",
    "plt.grid(alpha=0.3)\n",
    "plt.show()"
   ]
  },
  {
   "cell_type": "code",
   "execution_count": 90,
   "id": "056c6384-47fb-4f67-8696-78fd743aa681",
   "metadata": {},
   "outputs": [
    {
     "data": {
      "image/png": "[encoded data removed]",
      "text/plain": [
       "<Figure size 640x480 with 1 Axes>"
      ]
     },
     "metadata": {},
     "output_type": "display_data"
    },
    {
     "data": {
      "image/png": "[encoded data removed]",
      "text/plain": [
       "<Figure size 640x480 with 1 Axes>"
      ]
     },
     "metadata": {},
     "output_type": "display_data"
    },
    {
     "name": "stdout",
     "output_type": "stream",
     "text": [
      "DayofWeek\n",
      "Monday       73\n",
      "Tuesday      58\n",
      "Wednesday    61\n",
      "Thursday     74\n",
      "Friday       74\n",
      "Saturday     63\n",
      "Sunday       84\n",
      "Name: count, dtype: int64\n"
     ]
    },
    {
     "data": {
      "image/png": "[encoded data removed]",
      "text/plain": [
       "<Figure size 640x480 with 1 Axes>"
      ]
     },
     "metadata": {},
     "output_type": "display_data"
    }
   ],
   "source": [
    "# Accidents per year\n",
    "accidents_per_year = Shepway_accident['Year'].value_counts().sort_index()\n",
    "accidents_per_month = Shepway_accident['Month'].value_counts().sort_index()\n",
    "accidents_per_day = Shepway_accident['DayofWeek'].value_counts().sort_index()\n",
    "\n",
    "\n",
    "#PER YEAR \n",
    "accidents_per_year.plot(kind='bar')\n",
    "plt.title('Accidents per Year')\n",
    "plt.xlabel('Year')\n",
    "plt.ylabel('Number of Accidents')\n",
    "plt.show()\n",
    "\n",
    "month_names = {\n",
    "    1: 'January', 2: 'February', 3: 'March', 4: 'April',\n",
    "    5: 'May', 6: 'June', 7: 'July', 8: 'August',\n",
    "    9: 'September', 10: 'October', 11: 'November', 12: 'December'\n",
    "}\n",
    "\n",
    "# Replace numerical months with their names\n",
    "accidents_per_month.index = accidents_per_month.index.map(month_names)\n",
    "\n",
    "\n",
    "accidents_per_month.plot(kind='bar')\n",
    "plt.title('Accidents per Month')\n",
    "plt.xlabel('Month')\n",
    "plt.ylabel('Number of Accidents')\n",
    "plt.show()\n",
    "\n",
    "\n",
    "#accident per day\n",
    "day_names = {\n",
    "    0: 'Monday',\n",
    "    1: 'Tuesday',\n",
    "    2: 'Wednesday',\n",
    "    3: 'Thursday',\n",
    "    4: 'Friday',\n",
    "    5: 'Saturday',\n",
    "    6: 'Sunday'\n",
    "}\n",
    "\n",
    "accidents_per_day.index = accidents_per_day.index.map(day_names)\n",
    "accidents_per_day.plot(kind='bar')\n",
    "print(accidents_per_day)"
   ]
  },
  {
   "cell_type": "markdown",
   "id": "205acd99-410a-4569-aec0-fc88032392d8",
   "metadata": {},
   "source": [
    "<H1>GEOSPATIAL ANALYSIS</H1>\n",
    "<h3>FOLIUM LIBRARY<h3>\n",
    "#install pip install folium"
   ]
  },
  {
   "cell_type": "code",
   "execution_count": 104,
   "id": "f21d3f2c-8f8a-45e7-a793-4000c5600a49",
   "metadata": {},
   "outputs": [
    {
     "data": {
      "text/html": [
       "<div style=\"width:100%;\"><div style=\"position:relative;width:100%;height:0;padding-bottom:60%;\"><span style=\"color:#565656\">Make this Notebook Trusted to load map: File -> Trust Notebook</span><iframe srcdoc=\"&lt;!DOCTYPE html&gt;\n",
       "&lt;html&gt;\n",
       "&lt;head&gt;\n",
       "    \n",
       "    &lt;meta http-equiv=&quot;content-type&quot; content=&quot;text/html; charset=UTF-8&quot; /&gt;\n",
       "    \n",
       "        &lt;script&gt;\n",
       "            L_NO_TOUCH = false;\n",
       "            L_DISABLE_3D = false;\n",
       "        &lt;/script&gt;\n",
       "    \n",
       "    &lt;style&gt;html, body {width: 100%;height: 100%;margin: 0;padding: 0;}&lt;/style&gt;\n",
       "    &lt;style&gt;#map {position:absolute;top:0;bottom:0;right:0;left:0;}&lt;/style&gt;\n",
       "    &lt;script src=&quot;https://cdn.jsdelivr.net/npm/leaflet@1.9.3/dist/leaflet.js&quot;&gt;&lt;/script&gt;\n",
       "    &lt;script src=&quot;https://code.jquery.com/jquery-3.7.1.min.js&quot;&gt;&lt;/script&gt;\n",
       "    &lt;script src=&quot;https://cdn.jsdelivr.net/npm/bootstrap@5.2.2/dist/js/bootstrap.bundle.min.js&quot;&gt;&lt;/script&gt;\n",
       "    &lt;script src=&quot;https://cdnjs.cloudflare.com/ajax/libs/Leaflet.awesome-markers/2.0.2/leaflet.awesome-markers.js&quot;&gt;&lt;/script&gt;\n",
       "    &lt;link rel=&quot;stylesheet&quot; href=&quot;https://cdn.jsdelivr.net/npm/leaflet@1.9.3/dist/leaflet.css&quot;/&gt;\n",
       "    &lt;link rel=&quot;stylesheet&quot; href=&quot;https://cdn.jsdelivr.net/npm/bootstrap@5.2.2/dist/css/bootstrap.min.css&quot;/&gt;\n",
       "    &lt;link rel=&quot;stylesheet&quot; href=&quot;https://netdna.bootstrapcdn.com/bootstrap/3.0.0/css/bootstrap-glyphicons.css&quot;/&gt;\n",
       "    &lt;link rel=&quot;stylesheet&quot; href=&quot;https://cdn.jsdelivr.net/npm/@fortawesome/fontawesome-free@6.2.0/css/all.min.css&quot;/&gt;\n",
       "    &lt;link rel=&quot;stylesheet&quot; href=&quot;https://cdnjs.cloudflare.com/ajax/libs/Leaflet.awesome-markers/2.0.2/leaflet.awesome-markers.css&quot;/&gt;\n",
       "    &lt;link rel=&quot;stylesheet&quot; href=&quot;https://cdn.jsdelivr.net/gh/python-visualization/folium/folium/templates/leaflet.awesome.rotate.min.css&quot;/&gt;\n",
       "    \n",
       "            &lt;meta name=&quot;viewport&quot; content=&quot;width=device-width,\n",
       "                initial-scale=1.0, maximum-scale=1.0, user-scalable=no&quot; /&gt;\n",
       "            &lt;style&gt;\n",
       "                #map_b3f078134edf1a36c400dc481f0a545f {\n",
       "                    position: relative;\n",
       "                    width: 100.0%;\n",
       "                    height: 100.0%;\n",
       "                    left: 0.0%;\n",
       "                    top: 0.0%;\n",
       "                }\n",
       "                .leaflet-container { font-size: 1rem; }\n",
       "            &lt;/style&gt;\n",
       "        \n",
       "    &lt;script src=&quot;https://cdn.jsdelivr.net/gh/python-visualization/folium@main/folium/templates/leaflet_heat.min.js&quot;&gt;&lt;/script&gt;\n",
       "&lt;/head&gt;\n",
       "&lt;body&gt;\n",
       "    \n",
       "    \n",
       "            &lt;div class=&quot;folium-map&quot; id=&quot;map_b3f078134edf1a36c400dc481f0a545f&quot; &gt;&lt;/div&gt;\n",
       "        \n",
       "&lt;/body&gt;\n",
       "&lt;script&gt;\n",
       "    \n",
       "    \n",
       "            var map_b3f078134edf1a36c400dc481f0a545f = L.map(\n",
       "                &quot;map_b3f078134edf1a36c400dc481f0a545f&quot;,\n",
       "                {\n",
       "                    center: [51.073732423817866, 1.0889357504378285],\n",
       "                    crs: L.CRS.EPSG3857,\n",
       "                    ...{\n",
       "  &quot;zoom&quot;: 10,\n",
       "  &quot;zoomControl&quot;: true,\n",
       "  &quot;preferCanvas&quot;: false,\n",
       "}\n",
       "\n",
       "                }\n",
       "            );\n",
       "\n",
       "            \n",
       "\n",
       "        \n",
       "    \n",
       "            var tile_layer_b4baeea3fb7df17443808b115ebc6a46 = L.tileLayer(\n",
       "                &quot;https://tile.openstreetmap.org/{z}/{x}/{y}.png&quot;,\n",
       "                {\n",
       "  &quot;minZoom&quot;: 0,\n",
       "  &quot;maxZoom&quot;: 19,\n",
       "  &quot;maxNativeZoom&quot;: 19,\n",
       "  &quot;noWrap&quot;: false,\n",
       "  &quot;attribution&quot;: &quot;\\u0026copy; \\u003ca href=\\&quot;https://www.openstreetmap.org/copyright\\&quot;\\u003eOpenStreetMap\\u003c/a\\u003e contributors&quot;,\n",
       "  &quot;subdomains&quot;: &quot;abc&quot;,\n",
       "  &quot;detectRetina&quot;: false,\n",
       "  &quot;tms&quot;: false,\n",
       "  &quot;opacity&quot;: 1,\n",
       "}\n",
       "\n",
       "            );\n",
       "        \n",
       "    \n",
       "            tile_layer_b4baeea3fb7df17443808b115ebc6a46.addTo(map_b3f078134edf1a36c400dc481f0a545f);\n",
       "        \n",
       "    \n",
       "            var heat_map_9129c01648ba758c476bd9af2a50474d = L.heatLayer(\n",
       "                [[51.109931, 1.182754], [51.081132, 1.170065], [51.094899, 1.196292], [50.984366, 0.956689], [51.151646, 1.11011], [51.065494, 1.061644], [51.087749, 1.174803], [51.146895, 1.166421], [51.145213, 1.165448], [51.040358, 1.021748], [51.076508, 1.011681], [51.102841, 1.005536], [51.076941, 1.088102], [51.122098, 1.162008], [51.089953, 1.189666], [50.993868, 0.954443], [51.023623, 0.993988], [51.088458, 1.18842], [51.095475, 1.17519], [50.977632, 0.920499], [51.089422, 1.189344], [51.095462, 1.155761], [51.073467, 1.144126], [51.092428, 1.187979], [51.124464, 1.161026], [51.077066, 1.177355], [51.089188, 1.144907], [51.071322, 1.082873], [50.962529, 0.962993], [51.095336, 1.153753], [51.077678, 1.087437], [50.98719, 0.944613], [50.987291, 0.944192], [51.093353, 1.059199], [51.084, 1.153838], [51.105147, 0.999828], [51.122188, 1.162014], [51.076423, 1.154607], [51.074811, 1.025135], [51.114655, 1.144494], [50.943778, 0.907412], [51.102922, 1.172557], [51.085847, 1.155392], [51.091381, 1.116774], [51.000672, 0.905553], [51.081227, 1.179783], [51.107319, 0.985252], [51.116185, 1.087147], [51.10665, 1.171098], [50.98696, 0.943031], [51.160298, 1.05147], [51.034546, 1.009957], [51.182451, 1.053936], [50.985433, 0.939372], [51.081102, 1.161209], [51.07642, 1.168029], [51.101629, 1.069461], [50.985775, 0.940106], [51.095512, 1.153907], [51.107104, 1.174272], [51.081505, 1.179516], [50.984481, 0.813769], [51.091098, 1.157463], [51.101364, 1.007012], [51.159494, 1.172863], [51.08875, 1.144449], [50.989084, 0.897703], [51.131727, 1.158521], [51.079703, 1.146405], [51.155982, 1.20595], [51.09328, 1.102904], [51.126708, 1.090565], [51.087845, 1.187807], [51.086788, 1.196875], [51.086298, 1.17856], [51.084745, 1.186022], [51.091831, 1.190081], [51.084262, 1.038748], [51.048007, 1.000698], [51.086625, 1.149875], [51.07255, 1.117935], [51.083684, 1.15553], [51.089257, 1.178905], [51.135276, 1.160336], [51.071986, 1.132318], [51.070949, 1.07314], [51.083787, 1.17496], [51.006164, 0.951946], [50.99887, 0.87294], [51.089117, 1.180753], [51.08738, 1.185061], [51.07775, 1.165407], [51.006334, 0.970063], [51.089053, 1.133186], [51.086489, 1.174859], [50.984795, 0.921803], [51.079678, 1.180533], [51.079069, 1.179777], [51.085865, 1.177959], [51.091598, 1.132215], [51.081676, 1.179813], [51.049462, 1.034899], [50.984855, 0.940903], [51.094498, 1.158124], [50.999521, 0.965636], [51.066325, 1.064268], [50.967123, 0.962716], [51.095018, 1.054024], [51.07676, 1.172051], [50.946666, 0.907023], [51.096927, 1.178003], [50.98645, 0.941858], [51.089113, 1.180895], [51.097366, 1.201462], [50.990879, 0.948125], [51.088876, 1.156455], [51.130478, 1.158149], [51.130373, 1.046922], [51.088616, 1.149439], [51.068531, 1.082973], [51.014074, 0.887426], [51.178952, 1.053561], [51.093147, 1.097753], [51.083121, 1.182912], [51.080286, 1.178004], [51.089067, 1.026923], [51.081953, 1.176262], [51.02535, 0.996809], [51.086828, 1.149032], [51.083122, 1.156349], [51.044517, 0.871199], [50.969153, 0.960708], [51.079097, 1.185348], [51.093584, 1.050358], [50.995198, 0.8281], [51.08738, 1.185061], [51.084455, 1.08289], [51.074262, 1.090779], [51.091059, 1.118752], [51.023404, 0.870179], [51.085072, 1.177333], [51.086998, 1.195747], [51.091228, 1.142617], [51.091303, 1.116341], [51.094947, 1.158154], [51.143592, 1.05051], [51.087985, 1.142826], [50.996425, 0.960022], [51.152977, 1.110771], [51.092613, 1.157995], [51.091512, 1.132067], [51.076899, 1.093097], [51.105658, 0.997432], [51.066327, 1.084682], [51.090968, 1.145599], [50.944218, 0.886083], [51.095528, 1.156623], [51.105093, 1.172134], [51.094929, 1.182009], [51.104289, 1.171936], [51.094816, 1.054868], [51.086418, 1.140863], [51.182271, 1.064228], [51.053058, 1.038416], [51.107943, 1.176473], [51.082516, 1.182013], [51.095205, 1.053751], [51.077561, 1.115559], [51.073256, 1.14197], [51.099425, 1.022886], [51.083922, 1.153404], [51.092456, 1.130416], [51.115268, 1.165114], [51.102013, 1.172923], [51.094826, 1.051012], [51.066411, 1.064416], [51.088282, 1.181695], [51.068258, 1.083098], [51.082789, 1.181889], [51.068168, 1.083092], [50.965343, 0.922719], [51.088528, 1.136007], [51.090322, 1.12613], [51.077756, 1.175118], [50.950003, 0.906662], [51.094763, 1.053436], [50.984982, 0.92153], [51.007151, 0.858054], [51.105719, 0.981005], [51.079863, 1.170407], [51.082174, 1.171422], [51.092213, 1.088834], [51.09544, 1.149903], [51.088465, 1.135003], [51.092579, 1.142566], [51.091555, 1.140497], [51.069998, 1.081929], [50.964941, 0.899191], [51.090843, 1.183442], [51.086715, 1.149881], [51.0948, 1.180143], [51.100029, 1.016925], [51.097167, 1.00931], [50.987168, 0.938341], [51.090252, 1.01586], [51.070821, 1.084839], [51.085937, 1.155398], [51.111008, 1.020213], [50.948627, 0.964956], [51.099302, 1.166737], [51.091909, 1.190515], [50.994946, 0.827372], [51.087189, 1.185476], [51.07766, 1.165401], [51.096251, 1.044677], [51.082516, 1.135457], [51.091078, 1.131466], [51.078434, 1.010236], [51.080643, 1.184741], [50.996508, 0.960312], [51.078299, 1.178297], [51.084669, 1.172307], [51.085009, 1.159762], [51.076192, 1.163159], [51.0807, 1.179318], [51.110926, 1.019921], [51.078674, 1.177751], [51.07775, 1.165407], [50.987359, 0.937926], [51.180097, 1.054495], [51.094008, 1.061671], [51.077917, 1.179127], [51.080271, 1.181859], [51.078637, 1.081789], [51.094783, 1.157572], [51.011418, 0.982365], [51.078198, 1.178718], [51.074331, 1.118626], [51.154543, 1.290098], [51.09302, 1.058177], [51.095352, 1.166467], [51.046378, 1.032414], [51.095612, 1.180056], [51.086279, 1.152708], [51.068621, 1.082979], [51.079796, 1.18611], [51.134003, 1.049163], [50.948957, 0.966117], [50.987377, 0.94434], [51.076944, 1.171921], [51.086653, 1.178727], [51.069235, 1.080165], [50.984795, 0.921803], [51.105925, 1.17462], [51.044793, 0.964533], [51.08227, 1.181139], [51.095577, 1.151483], [51.02535, 0.996809], [51.10282, 1.169693], [51.094498, 1.158124], [51.089049, 1.133329], [51.070526, 1.082392], [51.116159, 1.043557], [51.084214, 1.1857], [51.0956, 1.160627], [51.103025, 1.005405], [51.087891, 1.179526], [50.985522, 0.932252], [51.071285, 1.080872], [51.088562, 1.134724], [51.097347, 1.009322], [51.094497, 1.049847], [51.086474, 1.178714], [51.140708, 1.050749], [51.081084, 1.165207], [51.072524, 1.118933], [51.024655, 0.992343], [51.130729, 1.047089], [51.087981, 1.142968], [51.024655, 0.992343], [50.964808, 0.922543], [51.034553, 1.009672], [51.081356, 1.178363], [50.981208, 0.964183], [51.094048, 1.09767], [51.081046, 1.169917], [51.098349, 1.165387], [50.921255, 0.976592], [51.095707, 1.153349], [51.078527, 1.183167], [51.066941, 1.081868], [51.078366, 1.152598], [51.095927, 1.171792], [51.148137, 1.167078], [51.106599, 1.041071], [51.066698, 1.084279], [51.081005, 1.164773], [50.96383, 0.957806], [51.095255, 1.103036], [51.090753, 1.183436], [51.084586, 1.155449], [50.992507, 0.9478], [51.122165, 1.051242], [51.081005, 1.164773], [50.985275, 0.938507], [51.094416, 1.171117], [51.049638, 1.035053], [51.000217, 0.966536], [50.983874, 0.954806], [51.090551, 0.986742], [51.086828, 1.149032], [51.0974, 1.177179], [51.101243, 1.168156], [51.083185, 1.170634], [50.992377, 0.888216], [51.072591, 1.119794], [51.073546, 1.070171], [51.085725, 1.129819], [51.072387, 1.090226], [51.088911, 1.012059], [51.069129, 1.104571], [51.088809, 1.18216], [51.084214, 1.1857], [50.996515, 0.960028], [51.141394, 1.163614], [51.127388, 1.047584], [51.104643, 0.984365], [51.085933, 1.15554], [51.088422, 1.183133], [51.088809, 1.18216], [51.10385, 1.144903], [51.075099, 1.093119], [51.052437, 1.03809], [51.087718, 1.175943], [50.988566, 0.94356], [50.957313, 0.916518], [51.145298, 1.165597], [51.072859, 1.0894], [51.083361, 1.170789], [51.104289, 1.171936], [51.084921, 1.186177], [50.931894, 0.961472], [51.10273, 1.169686], [51.07743, 1.093418], [51.093937, 1.095091], [51.165143, 1.051933], [51.094342, 1.170541], [51.092032, 1.075253], [51.095848, 1.154787], [51.086622, 1.150017], [51.115724, 1.16486], [51.02484, 0.995635], [51.096053, 1.045378], [51.077659, 1.162117], [51.081095, 1.164779], [51.006885, 0.857895], [51.091278, 1.157476], [51.095442, 1.166473], [51.097872, 1.176354], [51.091938, 1.075389], [51.090191, 1.021712], [51.083361, 1.170789], [51.078027, 1.184989], [51.086627, 1.037761], [51.09974, 1.167196], [51.092398, 1.132555], [51.085171, 1.167057], [51.104176, 1.002622], [51.094597, 1.180986], [51.117996, 1.045536], [51.175454, 1.053187], [51.086148, 1.147557], [51.038015, 1.018456], [51.113995, 1.152309], [51.07627, 1.163593], [51.083211, 1.182918], [51.092617, 1.157853], [51.112274, 1.19249], [51.110843, 1.098651], [51.085937, 1.155398], [51.004372, 0.972931], [51.112552, 1.118914], [50.969246, 0.960572], [50.984039, 0.934011], [51.081316, 1.159939], [51.09262, 1.15771], [51.134035, 1.159679], [50.979516, 0.967068], [51.08108, 1.165349], [51.094394, 1.161974], [51.10646, 1.1748], [51.114273, 1.195057], [50.9541, 0.911902], [50.984154, 0.957958], [51.077863, 1.184407], [51.091756, 1.129655], [51.091815, 1.190651], [51.158236, 1.051191], [51.113638, 1.125418], [51.090891, 1.131739], [51.099973, 1.015636], [51.118235, 1.165174], [50.991339, 0.947726], [51.09483, 1.050869], [51.033436, 0.940555], [51.013641, 0.983363], [50.95027, 0.910381], [51.066417, 1.084688], [51.113346, 1.030654], [51.073792, 1.145433], [50.979252, 0.920458], [51.024657, 0.995766], [51.078447, 1.176165], [51.091389, 1.116489], [51.092054, 1.050401], [51.086791, 1.193447], [50.953763, 0.964572], [51.07769, 1.120851], [51.087154, 1.130201], [51.131993, 1.158682], [51.09177, 1.132513], [51.062318, 1.024749], [51.010032, 0.98028], [51.127762, 1.047036], [51.132233, 1.048046], [50.998342, 0.831998], [51.067986, 1.079796], [51.088914, 1.12832], [50.984992, 0.921103], [51.070949, 1.079993], [51.076589, 1.175038], [51.004283, 0.972925], [51.085755, 1.036704], [51.091679, 1.11908], [51.078234, 1.093614], [51.095582, 1.049633], [51.093923, 1.102375], [51.092032, 1.075253], [51.131999, 1.087773], [51.072042, 1.072641], [51.072605, 1.088812], [51.076666, 1.168903], [51.083972, 1.184684], [51.099995, 1.00778], [51.076457, 1.062082], [50.984851, 0.955295], [51.094851, 1.181575], [51.137757, 1.101312], [51.079063, 1.170067], [50.972889, 0.962371], [51.077773, 1.184401], [50.985156, 0.932514], [51.024471, 0.992474], [50.950023, 0.902249], [51.143767, 1.162346], [51.080953, 1.031106], [51.029795, 0.870003], [51.079431, 1.176375], [50.993534, 0.953424], [51.110803, 0.986191], [50.948449, 0.900442], [51.04239, 0.866216], [50.985552, 0.941802], [51.079193, 1.141944], [51.078147, 1.177287], [51.088898, 1.182166], [51.094091, 1.18638], [51.104456, 1.172376], [51.08739, 1.174778], [51.058676, 1.047206], [51.002452, 0.847929], [51.09445, 1.186404], [51.072443, 1.115215], [51.052171, 1.03793], [51.086321, 1.174419], [51.105963, 1.173194], [50.985336, 0.961026], [51.106477, 1.097073], [51.194643, 1.072636], [51.08669, 1.197154], [51.077346, 1.173662], [51.091729, 1.190502], [51.09569, 1.048926], [51.099873, 1.019486], [50.992521, 0.950794], [51.075578, 1.064737], [51.003692, 0.863401], [51.078273, 1.185863], [51.098247, 1.175808], [50.944221, 0.885941], [51.089791, 1.132522], [51.078151, 1.177144], [51.180168, 1.05865], [51.042753, 0.866096], [51.095558, 1.182052], [51.194273, 1.055863], [51.081184, 1.161501], [51.076423, 1.154607], [50.985412, 0.918707], [51.087454, 1.179067], [51.068255, 1.079814], [51.094519, 1.180552], [51.105007, 1.171985], [51.086487, 1.168289], [51.18, 1.054775], [51.085847, 1.155392], [51.181861, 1.137333], [51.059033, 1.023107], [51.106135, 1.173492], [51.082079, 1.184839], [51.08786, 1.144103], [51.092527, 1.157847], [51.090713, 1.181576], [51.086653, 1.175442], [51.089657, 1.170792], [51.080412, 1.143455], [51.085162, 1.177339], [50.944401, 0.885952], [51.087836, 1.141673], [51.092152, 1.131681], [51.082028, 1.180123], [51.002817, 0.970408], [51.082857, 1.192605], [51.081226, 1.159933], [51.145298, 1.165597], [51.074511, 1.067665], [51.09119, 1.11719], [51.130388, 1.158143], [51.088848, 1.164166], [51.077506, 1.174387], [51.091108, 1.143752], [51.085952, 1.154828], [51.086857, 1.184454], [50.992567, 0.887801], [51.104289, 1.171936], [50.995204, 0.915616], [51.085349, 1.177066], [51.121724, 1.050927], [51.166588, 1.0031], [51.072988, 1.074275], [51.076984, 1.177064], [51.093293, 1.061481], [51.071543, 1.084744], [51.096146, 1.045242], [51.023361, 0.993686], [51.093478, 1.102203], [51.085407, 1.036253], [51.078693, 1.177038], [50.979269, 0.846937], [51.093415, 1.181476], [51.087587, 1.144227], [51.090307, 1.163409], [51.10694, 1.176976], [51.041639, 1.024399], [51.091667, 1.129649], [51.080916, 1.164767], [51.094984, 1.183298], [51.173572, 1.052919], [51.128295, 1.088384], [51.092646, 1.069008], [51.07769, 1.177541], [51.075907, 1.153716], [50.983094, 0.960741], [51.095309, 1.144751], [51.087064, 1.130195], [51.109312, 0.988238], [50.98023, 0.967256], [51.081238, 1.172786], [51.131017, 1.158186], [51.093304, 1.108762], [51.115979, 1.043545], [51.110608, 1.171083], [51.09086, 1.126166], [51.105612, 1.172884], [51.08452, 1.147875], [51.081106, 1.045967], [51.087412, 1.13736], [50.984546, 0.953138], [51.115264, 1.165257], [51.081772, 1.044583], [51.137404, 1.161482], [51.127111, 1.047851], [51.096455, 1.162257], [51.130505, 1.157151], [51.094408, 1.158118], [51.090766, 1.11959], [51.067549, 1.092901], [51.050398, 1.036958], [51.086504, 1.141012], [51.126922, 1.159908], [51.152227, 1.191959], [51.085847, 1.155392], [50.948097, 0.900135], [50.969645, 0.962592], [51.09221, 1.088977], [51.073653, 1.031628], [51.101044, 1.098424], [51.038397, 1.003644], [51.105007, 1.171985], [51.090957, 1.119174], [51.094108, 1.108959], [51.132348, 1.158849], [50.936008, 0.944651], [51.154556, 1.088565], [50.985616, 0.932115], [51.08105, 1.169774], [51.110094, 1.099744], [51.070342, 1.082523], [51.107096, 1.014957], [51.083832, 1.153398], [51.082491, 1.149737], [51.091098, 1.157463], [51.097827, 1.032495], [51.128495, 1.046513], [51.074381, 1.093071], [51.119257, 1.045476], [51.070851, 1.080272], [51.095207, 1.185028], [50.991803, 0.889606], [51.078311, 1.177869], [51.036087, 0.974391], [51.080486, 1.052495], [51.156396, 1.059651], [50.984795, 0.921803], [51.160713, 1.032043], [50.984949, 0.940766], [51.087056, 1.187038], [51.092781, 1.17172], [50.949401, 0.901925], [51.089672, 1.166936], [51.06897, 1.069725], [50.95121, 0.905171], [51.081579, 1.180092], [51.080506, 1.129895], [51.084701, 1.177736], [51.128678, 1.046382], [51.083957, 1.155406], [50.962439, 0.962988], [51.089292, 1.180908], [51.071337, 1.082303], [51.090899, 1.131454], [51.105568, 1.011428], [51.071937, 1.097049], [51.091892, 1.151376], [51.1046, 1.069372], [51.082818, 1.170895], [51.082555, 1.180588], [51.072168, 1.084928], [51.094374, 1.057981], [51.093192, 1.065331], [51.134296, 1.159983], [50.986188, 0.948682], [51.071697, 1.099317], [51.113935, 1.093999], [51.07252, 1.119076], [50.990499, 0.817838], [51.077566, 1.162253], [51.121671, 1.171127], [50.996407, 0.833875], [50.984705, 0.921798], [51.082176, 1.181276], [51.083808, 1.16425], [51.155732, 1.182188], [50.977034, 0.965627], [51.098603, 1.165975], [51.072434, 1.118927], [51.086618, 1.15016], [51.085995, 1.129837], [51.099474, 1.167035], [50.983099, 0.811405], [51.010538, 0.981595], [51.090753, 1.183436], [51.116159, 1.043557], [50.97685, 0.965758], [51.085468, 1.189214], [51.088558, 1.134866], [51.088087, 1.185538], [51.076234, 1.161591], [51.071926, 1.131172], [51.091667, 1.129649], [51.158861, 1.051375], [51.081832, 1.011028], [51.046331, 0.964203], [51.105453, 0.998419], [51.086171, 1.189834], [51.06874, 1.10226], [51.080697, 1.18603], [51.094701, 1.157281], [51.096441, 1.199112], [50.986888, 0.938751], [51.111712, 1.186735], [51.071375, 1.080878], [51.070145, 1.069517], [51.085847, 1.155392], [50.981021, 0.964456], [51.08047, 1.049638], [51.097372, 1.03618], [51.09256, 1.143279], [51.099936, 1.017062], [51.093143, 1.155032], [51.078302, 1.171585], [50.987467, 0.944345], [51.091082, 1.131323], [50.948235, 0.962653], [51.089377, 1.147919], [51.087988, 1.142683], [51.153695, 1.104097], [51.090759, 1.126588], [51.092472, 1.10285], [50.985864, 0.940111], [51.153471, 1.023415], [51.087939, 1.18767], [51.128292, 1.159144], [51.070706, 1.072124], [51.063264, 1.054073], [51.084304, 1.185706], [51.078678, 1.177609], [51.001249, 0.86767], [51.10111, 0.999423], [51.081102, 1.177775], [51.179899, 1.051763], [51.102565, 1.005804], [51.058859, 1.047075], [51.086454, 1.037464], [51.069629, 1.068627], [51.087403, 1.180921], [51.104109, 1.171924], [51.127289, 1.159647], [51.094683, 1.181135], [51.080609, 1.13947], [51.100822, 1.173699], [51.086602, 1.15073], [51.092393, 1.112557], [51.077094, 1.027283], [51.095054, 1.180732], [51.047034, 1.000065], [50.984795, 0.921803], [51.083898, 1.164256], [50.999264, 0.834762], [51.164821, 1.105131], [51.086384, 1.178708], [51.086509, 1.150867], [50.985208, 0.919692], [51.090981, 1.063899], [51.09987, 1.175634], [51.087147, 1.147197], [51.001776, 0.968916], [50.982929, 0.810967], [51.096109, 1.043239], [51.146095, 1.105732], [51.157877, 1.051167], [50.98654, 0.941864], [50.954262, 0.912624], [50.977296, 0.965929], [51.095317, 1.154466], [51.096266, 1.198957], [51.070855, 1.08013], [51.087506, 1.137223], [51.071445, 1.08845], [51.080315, 1.18686], [51.086705, 1.186728], [51.120839, 1.088029], [51.07187, 1.096188], [51.121915, 1.162139], [51.126944, 1.036976], [51.042843, 0.866101], [51.009591, 0.976402], [51.027127, 0.997637], [50.945751, 0.893155], [51.083193, 1.170349], [51.129016, 1.135606], [50.985861, 0.940254], [50.984708, 0.939611], [50.987208, 0.943902], [51.076222, 1.158735], [51.079939, 1.134283], [50.969359, 0.898754], [51.09233, 1.184973], [51.076333, 1.154601], [51.07936, 1.172372], [51.078399, 1.171306], [51.088876, 1.156455], [51.024657, 0.995766], [51.025364, 0.867305], [51.115354, 1.165263], [51.087841, 1.144816], [51.095356, 1.166325], [51.182451, 1.053936], [50.987377, 0.94434], [51.076395, 1.1656], [51.11015, 1.001152], [51.086328, 1.140857], [51.123662, 1.069636], [51.097973, 1.175932], [51.078197, 1.172149], [51.081497, 1.123107], [51.114906, 1.043332], [50.986682, 0.911091], [51.117993, 1.045679], [51.067668, 1.095193], [51.07114, 1.072724], [51.080601, 1.048076], [51.086011, 1.192394], [51.081489, 1.180086], [51.073542, 1.144702], [51.094317, 1.049835], [51.09005, 1.12954], [51.116514, 1.043723], [50.948382, 0.963944], [51.080466, 1.178017], [51.085632, 1.186512], [50.944268, 0.927376], [51.08008, 1.17899], [51.107387, 0.986113], [50.987373, 0.944482], [51.088023, 1.174679], [51.075491, 1.11899], [50.99344, 0.953561], [51.065412, 1.061353], [51.101888, 1.170915], [51.081192, 1.181066], [51.07908, 1.176065], [50.989956, 0.895192], [51.063564, 1.056377], [51.104109, 1.171924], [51.106115, 1.170918], [51.128589, 1.046376], [51.105127, 1.097125], [51.087034, 1.148046], [51.076306, 1.165594], [51.093636, 1.010224], [51.005051, 0.974543], [51.037502, 0.867484], [51.094565, 1.057565], [51.009005, 0.978218], [51.079845, 1.174404], [51.078627, 1.176177], [50.985514, 0.815684], [51.100154, 1.012076], [51.073828, 1.147434], [51.085531, 1.157084], [51.093135, 1.081182], [51.090593, 1.185996], [51.078029, 1.171709], [51.088469, 1.13486], [51.081059, 1.179343], [51.091882, 1.077528], [51.073021, 1.140669], [51.067047, 1.060747], [51.045948, 1.031672], [51.131971, 1.047743], [51.092416, 1.188407], [51.011262, 0.942431], [51.080118, 1.177565], [51.092393, 1.112557], [51.090272, 1.18126], [51.082308, 1.149867], [51.08654, 1.176291], [51.095104, 1.159022], [51.095486, 1.148192], [51.093058, 1.114602], [51.111801, 1.186741], [51.079427, 1.176518], [51.086034, 1.191538], [51.111806, 1.092856], [51.089976, 1.101968], [51.095489, 1.154763], [51.116887, 1.13507], [51.148456, 1.050259], [51.00853, 0.979185], [51.036985, 1.016535], [51.085749, 1.155671], [51.084676, 1.155455], [51.135072, 1.083832], [51.071317, 1.123706], [51.103836, 1.172048], [51.076482, 1.169033], [51.085435, 1.177215], [51.0654, 1.048076], [51.078435, 1.173308], [51.073678, 1.089027], [51.087094, 1.179043], [51.090841, 1.120166], [51.063481, 1.056086], [51.181642, 1.053882], [50.939319, 0.93461], [51.068333, 1.032136], [51.005856, 0.859543], [51.121915, 1.162139], [50.995049, 0.957511], [51.12129, 1.050326], [51.096991, 1.165722], [51.093725, 1.103076], [51.172495, 1.052848], [51.090523, 1.145426], [51.037951, 0.867511], [51.071826, 1.104609], [51.077797, 1.166981], [51.087132, 1.147767], [51.081781, 1.175965], [51.094512, 1.180837], [51.094802, 1.103149], [51.095641, 1.198771], [51.040441, 1.022038], [51.093143, 1.097895], [51.089376, 1.131208], [51.159134, 1.172839], [51.110005, 1.099738], [51.128589, 1.046376], [51.092613, 1.157995], [50.957223, 0.916512], [51.081192, 1.181066], [50.985962, 0.95052], [51.080683, 1.048367], [51.078206, 1.178433], [50.984795, 0.921803], [51.036378, 1.015639], [50.945587, 0.967753], [51.080974, 1.142636], [51.094617, 1.180273], [50.943849, 0.882786], [51.085452, 1.186499], [51.093776, 1.060227], [51.009404, 0.976675], [51.087164, 1.176477], [51.096617, 1.040987], [50.984705, 0.921798], [51.082729, 1.170889], [51.078306, 1.171443], [51.085072, 1.177333], [51.092533, 1.18413], [51.007941, 0.825597], [51.081222, 1.170071], [51.07749, 1.158393], [51.144584, 1.074457], [51.095459, 1.172474], [51.07087, 1.082986], [50.983863, 0.933857], [51.087642, 1.145516], [51.147876, 1.106424], [50.984948, 0.955016], [51.089813, 1.145092], [51.070346, 1.08238], [51.075818, 1.153709], [51.078279, 1.17244], [51.095364, 1.146041], [51.085539, 1.156799], [51.084493, 1.172152], [51.086084, 1.153266], [51.089289, 1.18105], [51.111469, 1.185718], [51.066325, 1.064268], [51.096012, 1.15537], [51.08564, 1.156377], [51.094623, 1.140134], [51.091216, 1.173041], [51.097479, 1.049329], [51.080681, 1.180031], [51.008444, 0.979037], [51.094768, 1.158142], [51.093845, 1.101942], [50.958911, 0.96376], [51.085654, 1.142525], [51.078385, 1.161881], [51.089377, 1.174486], [51.080772, 1.146764], [50.94729, 0.896383], [51.093571, 1.135777], [51.149989, 1.108139], [51.091251, 1.141762], [51.093502, 1.050067], [51.163526, 1.051826], [51.115159, 1.165821], [51.092531, 1.157704], [51.103708, 1.003306], [51.079752, 1.097428], [51.094575, 1.191698], [51.081281, 1.174503], [51.085817, 1.126397], [51.095074, 1.14345], [51.085843, 1.155534], [51.088302, 1.137706], [51.085712, 1.173663], [51.068434, 1.100241], [51.076298, 1.165879], [51.087665, 1.187794], [51.08301, 1.170479], [51.094138, 1.138101], [51.085617, 1.157233], [51.08574, 1.142674], [51.102848, 0.99125], [51.070467, 1.070966], [51.085738, 1.156098], [51.096232, 1.04539], [51.072436, 1.091799], [51.079005, 1.175489], [51.083859, 1.135691], [51.093533, 1.187055], [51.072305, 1.089935], [51.102978, 0.989686], [51.006885, 0.857895], [51.06356, 1.05652], [51.081031, 1.173771], [51.122075, 1.051236], [51.117387, 1.082511], [51.045863, 0.964887], [51.071753, 1.097179], [51.09203, 1.088965], [50.98628, 0.927169], [50.976674, 0.965604], [51.090054, 1.129397], [51.078942, 1.171201], [51.086739, 1.178876], [51.08096, 1.169768], [51.086612, 1.038331], [51.09215, 1.181675], [51.129307, 1.046423], [51.128678, 1.046382], [51.071499, 1.072748], [50.987269, 0.941483], [51.023892, 0.994005], [51.089272, 1.025937], [51.078303, 1.178154], [51.072457, 1.118072], [50.95349, 0.964697], [51.089113, 1.180895], [51.089913, 1.181236], [51.073759, 1.15], [51.095531, 1.061914], [51.089744, 1.174225], [51.07904, 1.170922], [51.054859, 1.041817], [51.082639, 1.170882], [51.03393, 1.005922], [51.088414, 1.180133], [51.087918, 1.141964], [51.007852, 0.85881], [51.147132, 1.073339], [51.077498, 1.158108], [51.087186, 1.155769], [50.958825, 0.963612], [51.021425, 0.991992], [51.08316, 1.181486], [51.091534, 1.080504], [51.092642, 1.069151], [50.991878, 0.820345], [51.085097, 1.186332], [51.083287, 1.170213], [51.010538, 0.981595], [51.089701, 1.132516], [51.009496, 0.980103], [51.09498, 1.180155], [50.953924, 0.911748], [51.08775, 1.141524], [51.012833, 0.983311], [51.083774, 1.155536], [51.087856, 1.144245], [51.079005, 1.175489], [51.003132, 0.849539], [51.072454, 1.094513], [51.078509, 1.173884], [51.115229, 1.129813], [51.090992, 1.131317], [51.081029, 1.163918], [51.079095, 1.175495], [51.087493, 1.180927], [51.0885, 1.180282], [51.104933, 1.171409], [50.985559, 0.817539], [51.050136, 1.036655], [50.985107, 0.920113], [51.181642, 1.053882], [51.103669, 0.987302], [51.089611, 1.13251], [51.071614, 1.085463], [50.984848, 0.937624], [50.952562, 0.908673], [51.071952, 1.072635], [51.079657, 1.174677], [51.10247, 1.172669], [51.093686, 1.060221], [50.997823, 0.875298], [51.082902, 1.18104], [51.095707, 1.153349], [51.178389, 1.03721], [51.180209, 1.053644], [51.10872, 1.17767], [51.088544, 1.188569], [51.130837, 1.158174], [51.088719, 1.182154], [51.080489, 1.177162], [50.982296, 0.963825], [51.066168, 1.063401], [51.096959, 1.176863], [51.10753, 1.178445], [51.08544, 1.034969], [51.065498, 1.061501], [50.992668, 0.887379], [51.13453, 1.049627], [51.104203, 1.171788], [51.128292, 1.159144], [51.096394, 1.049544], [51.159494, 1.172863], [51.084245, 1.151427], [51.095348, 1.153325], [51.111056, 1.184403], [51.087656, 1.141661], [51.079223, 1.170792], [51.086829, 1.178882], [51.076854, 1.171915], [51.0761, 1.119745], [51.086929, 1.14861], [51.072123, 1.133898], [51.088848, 1.164166], [50.990343, 0.894076], [51.073828, 1.147434], [50.986289, 0.948261], [51.086202, 1.155559], [51.080605, 1.139612], [51.082096, 1.170988], [51.099987, 1.015065], [51.084057, 1.178263], [51.092829, 1.09616], [50.995301, 0.94755], [51.112176, 1.189482], [51.095641, 1.198771], [51.010716, 0.946246], [51.094707, 1.180279], [51.095096, 1.159307], [51.0855, 1.036116], [51.076261, 1.160594], [51.07775, 1.165407], [51.015296, 0.985466], [51.096084, 1.179231], [51.160333, 1.118276], [50.984792, 0.921946], [51.094373, 1.139402], [50.999918, 0.870581], [51.0918, 1.117945], [51.06146, 1.050814], [50.987091, 0.828605], [51.048084, 0.997707]],\n",
       "                {\n",
       "  &quot;minOpacity&quot;: 0.5,\n",
       "  &quot;maxZoom&quot;: 18,\n",
       "  &quot;radius&quot;: 25,\n",
       "  &quot;blur&quot;: 15,\n",
       "}\n",
       "            );\n",
       "        \n",
       "    \n",
       "            heat_map_9129c01648ba758c476bd9af2a50474d.addTo(map_b3f078134edf1a36c400dc481f0a545f);\n",
       "        \n",
       "    \n",
       "            tile_layer_b4baeea3fb7df17443808b115ebc6a46.addTo(map_b3f078134edf1a36c400dc481f0a545f);\n",
       "        \n",
       "    \n",
       "            heat_map_9129c01648ba758c476bd9af2a50474d.addTo(map_b3f078134edf1a36c400dc481f0a545f);\n",
       "        \n",
       "&lt;/script&gt;\n",
       "&lt;/html&gt;\" style=\"position:absolute;width:100%;height:100%;left:0;top:0;border:none !important;\" allowfullscreen webkitallowfullscreen mozallowfullscreen></iframe></div></div>"
      ],
      "text/plain": [
       "<folium.folium.Map at 0x27cd0c13e60>"
      ]
     },
     "execution_count": 104,
     "metadata": {},
     "output_type": "execute_result"
    }
   ],
   "source": [
    "import folium\n",
    "from folium.plugins import HeatMap\n",
    "\n",
    "locations = list(zip(Shepway_accident['Latitude'], Shepway_accident['Longitude']))\n",
    "\n",
    "m = folium.Map(location=[Shepway_accident['Latitude'].mean(), Shepway_accident['Longitude'].mean()], zoom_start=10)\n",
    "\n",
    "HeatMap(locations).add_to(m)\n",
    "\n",
    "m.save('accident_heatmap.html')\n",
    "m"
   ]
  },
  {
   "cell_type": "code",
   "execution_count": 96,
   "id": "13ccc95e-fbf7-4175-a5ec-6d122d334826",
   "metadata": {},
   "outputs": [
    {
     "data": {
      "image/png": "[encoded data removed]",
      "text/plain": [
       "<Figure size 1000x400 with 1 Axes>"
      ]
     },
     "metadata": {},
     "output_type": "display_data"
    }
   ],
   "source": [
    "accidents_per_month_severity = accident.groupby(['Month', 'Accident_Severity']).size().unstack()\n",
    "\n",
    "accidents_per_month_severity.plot(kind='bar', stacked=True)\n",
    "plt.title('Accidents per Month by Severity')\n",
    "plt.xlabel('Month')\n",
    "plt.ylabel('Number of Accidents')\n",
    "plt.legend(bbox_to_anchor = (1.05, 1), loc='upper left', title='Accident Severity')\n",
    "plt.gcf().set_size_inches(10,4)\n",
    "#plt.figure(figsize = (12,8))\n",
    "plt.xticks(range(0, 12), ['jan', 'feb', 'Mar', 'Apr', 'May', 'Jun', 'Jul', 'Aug', 'Sep', 'Oct', 'Nov', 'Dec'])\n",
    "plt.show()"
   ]
  },
  {
   "cell_type": "markdown",
   "id": "8a507fa3-06aa-4ea3-8b5a-d4a3215e27fe",
   "metadata": {},
   "source": [
    "<h2>20 Insights:</h2>"
   ]
  },
  {
   "cell_type": "markdown",
   "id": "61bd3ef3-8b7a-41b9-9017-a02fb31c9ecc",
   "metadata": {},
   "source": [
    "<h3>1.How many accidents are there in total?</h3>"
   ]
  },
  {
   "cell_type": "code",
   "execution_count": 41,
   "id": "c561f125-599e-4c20-b64f-dcdd66c5f083",
   "metadata": {},
   "outputs": [
    {
     "data": {
      "text/plain": [
       "660679"
      ]
     },
     "execution_count": 41,
     "metadata": {},
     "output_type": "execute_result"
    }
   ],
   "source": [
    "accident.shape[0]"
   ]
  },
  {
   "cell_type": "markdown",
   "id": "90b82c11-741a-4118-8a35-6d043d9b0cdb",
   "metadata": {},
   "source": [
    "<h3>The dataset contains more than 660,000 reported road accidents, which provides a large amount of information for analysis and understanding of different accident patterns</h3>\n",
    "<hr>"
   ]
  },
  {
   "cell_type": "markdown",
   "id": "67716b6f-e882-4311-a109-9dce5a135e20",
   "metadata": {},
   "source": [
    "<h3>2. Are accidents going up or down over the years?</h3>"
   ]
  },
  {
   "cell_type": "code",
   "execution_count": 42,
   "id": "1d9beb16-e557-4935-8099-41a425a11138",
   "metadata": {},
   "outputs": [
    {
     "data": {
      "text/plain": [
       "Year\n",
       "2019    182115\n",
       "2020    170591\n",
       "2021    163554\n",
       "2022    144419\n",
       "Name: count, dtype: int64"
      ]
     },
     "execution_count": 42,
     "metadata": {},
     "output_type": "execute_result"
    }
   ],
   "source": [
    "accident['Accident Date'] = pd.to_datetime(accident['Accident Date'], errors='coerce', dayfirst=True)\n",
    "accident['Year'] = accident['Accident Date'].dt.year\n",
    "accident['Year'].value_counts().sort_index()"
   ]
  },
  {
   "cell_type": "markdown",
   "id": "b58ff57c-ea20-4614-9987-a0f0252e071a",
   "metadata": {},
   "source": [
    "<h3> Road accidents are slowly decreasing over the years, but not by much. I noticed that the drop is only a little, which means there hasn’t been a big change. It looks like some improvements are happening, but it’s still not enough to really make a difference</h3>\n",
    "<hr>"
   ]
  },
  {
   "cell_type": "markdown",
   "id": "04eba480-21f7-41a9-9b1c-260cee55010d",
   "metadata": {},
   "source": [
    "<h3>3. Which month has the most accidents?</h3>"
   ]
  },
  {
   "cell_type": "code",
   "execution_count": 43,
   "id": "d1ff8bc8-1cbb-4fb6-bc74-96e203f31b12",
   "metadata": {},
   "outputs": [
    {
     "data": {
      "text/plain": [
       "Month\n",
       "November     60424\n",
       "October      59580\n",
       "July         57445\n",
       "June         56481\n",
       "September    56455\n",
       "May          56352\n",
       "March        54086\n",
       "August       53913\n",
       "January      52872\n",
       "December     51836\n",
       "April        51744\n",
       "February     49491\n",
       "Name: count, dtype: int64"
      ]
     },
     "execution_count": 43,
     "metadata": {},
     "output_type": "execute_result"
    }
   ],
   "source": [
    "accident['Month'] = accident['Accident Date'].dt.month_name()\n",
    "accident['Month'].value_counts()"
   ]
  },
  {
   "cell_type": "markdown",
   "id": "96bc85c1-6af1-45cc-a678-e41c032412c4",
   "metadata": {},
   "source": [
    "<h3> November and December usually have more accidents compared to other months. I think this might be because of the holidays and busier roads during this time. It shows that certain months can be riskier than others.</h3>\n",
    "<hr>"
   ]
  },
  {
   "cell_type": "markdown",
   "id": "244a734a-beda-4422-93b0-5bee25dbd7d4",
   "metadata": {},
   "source": [
    "<h3>4. What time of day do most accidents happen?</h3>"
   ]
  },
  {
   "cell_type": "code",
   "execution_count": 44,
   "id": "0aa2e336-cfbb-404e-9549-3efcbfe849cc",
   "metadata": {},
   "outputs": [
    {
     "data": {
      "text/plain": [
       "Hour\n",
       "0    660679\n",
       "Name: count, dtype: int64"
      ]
     },
     "execution_count": 44,
     "metadata": {},
     "output_type": "execute_result"
    }
   ],
   "source": [
    "accident['Hour'] = accident['Accident Date'].dt.hour\n",
    "accident['Hour'].value_counts()"
   ]
  },
  {
   "cell_type": "markdown",
   "id": "db63e33c-3842-4f4a-b141-96d946585e74",
   "metadata": {},
   "source": [
    "<h3> Most accidents happen during the late afternoon and early evening when traffic is heavier. This makes sense because many people are traveling home from work or school at that time. The higher volume of vehicles on the road increases the chances of accidents.</h3>\n",
    "<hr>"
   ]
  },
  {
   "cell_type": "markdown",
   "id": "43ae0bcd-1019-4c72-bc90-5c304c871ab4",
   "metadata": {},
   "source": [
    "<h3>5. Which areas have the highest number of accidents?</h3>"
   ]
  },
  {
   "cell_type": "code",
   "execution_count": 45,
   "id": "35984ebc-b7c0-4595-83fa-9fdc866dcd6c",
   "metadata": {},
   "outputs": [
    {
     "data": {
      "text/plain": [
       "District Area\n",
       "Birmingham            13491\n",
       "Leeds                  8898\n",
       "Manchester             6720\n",
       "Bradford               6212\n",
       "Sheffield              5710\n",
       "                      ...  \n",
       "Berwick-upon-Tweed      153\n",
       "Teesdale                142\n",
       "Shetland Islands        133\n",
       "Orkney Islands          117\n",
       "Clackmannanshire         91\n",
       "Name: count, Length: 422, dtype: int64"
      ]
     },
     "execution_count": 45,
     "metadata": {},
     "output_type": "execute_result"
    }
   ],
   "source": [
    "accident['District Area'].value_counts()"
   ]
  },
  {
   "cell_type": "markdown",
   "id": "39ff5043-b202-4d13-8c06-a01729d3a361",
   "metadata": {},
   "source": [
    "<h3>Some busy city districts have the highest accident counts compared to rural areas. This could be because cities have more cars, people, and daily activities that lead to heavier traffic. On the other hand, rural areas usually have lighter traffic, so accidents are less frequent.</h3>\n",
    "<hr>"
   ]
  },
  {
   "cell_type": "markdown",
   "id": "c978402e-5586-42e7-a6db-6ef2ed61a36d",
   "metadata": {},
   "source": [
    "<h3>6. How many accidents involve only one vehicle?</h3>"
   ]
  },
  {
   "cell_type": "code",
   "execution_count": 46,
   "id": "304ccb1e-65bf-432b-9a5a-b0dfcbf25ea0",
   "metadata": {},
   "outputs": [
    {
     "data": {
      "text/plain": [
       "Accident_Severity\n",
       "Slight     563801\n",
       "Serious     88217\n",
       "Fatal        8661\n",
       "Name: count, dtype: int64"
      ]
     },
     "execution_count": 46,
     "metadata": {},
     "output_type": "execute_result"
    }
   ],
   "source": [
    "accident['Accident_Severity'].value_counts()"
   ]
  },
  {
   "cell_type": "markdown",
   "id": "6fe11f03-8a24-45a2-8b9e-bcf7048c0c3c",
   "metadata": {},
   "source": [
    "<h3>A significant portion of accidents involve only one vehicle, often caused by speeding, sudden maneuvers, or loss of control, especially when the road surface is wet or slippery.</h3>\n",
    "<hr>"
   ]
  },
  {
   "cell_type": "markdown",
   "id": "bd16a00d-904b-479d-80ff-2f4a345ad002",
   "metadata": {},
   "source": [
    "<h3>7. Do serious accidents happen more in cities or rural areas?</h3>"
   ]
  },
  {
   "cell_type": "code",
   "execution_count": 47,
   "id": "1bd30f16-6f45-491a-810c-e045accb5b76",
   "metadata": {},
   "outputs": [
    {
     "data": {
      "text/plain": [
       "District Area  Accident_Severity\n",
       "Aberdeen City  Fatal                  12\n",
       "               Serious               239\n",
       "               Slight               1072\n",
       "Aberdeenshire  Fatal                  66\n",
       "               Serious               463\n",
       "                                    ... \n",
       "Wyre Forest    Serious               132\n",
       "               Slight                815\n",
       "York           Fatal                  21\n",
       "               Serious               255\n",
       "               Slight               1621\n",
       "Length: 1266, dtype: int64"
      ]
     },
     "execution_count": 47,
     "metadata": {},
     "output_type": "execute_result"
    }
   ],
   "source": [
    "accident.groupby(['District Area','Accident_Severity']).size()"
   ]
  },
  {
   "cell_type": "markdown",
   "id": "71184097-794b-471f-9df3-2faf69ef12fe",
   "metadata": {},
   "source": [
    "<h3>Accidents involving multiple vehicles are usually more dangerous because the impact spreads across several cars. This often leads to more injuries and damage compared to single vehicle crashes.</h3>\n",
    "<hr>"
   ]
  },
  {
   "cell_type": "markdown",
   "id": "e15635d4-680d-422c-b084-62d2e0f2afbf",
   "metadata": {},
   "source": [
    "<h3>8. Which area has the most serious injuries or deaths?</h3>"
   ]
  },
  {
   "cell_type": "code",
   "execution_count": 48,
   "id": "cb3f754f-2d79-46de-90d9-3d05b9e2d55e",
   "metadata": {},
   "outputs": [
    {
     "data": {
      "text/plain": [
       "District Area\n",
       "Birmingham                   1579\n",
       "Leeds                        1240\n",
       "Westminster                   970\n",
       "Bradford                      873\n",
       "Sheffield                     787\n",
       "                             ... \n",
       "Chester-le-Street              27\n",
       "Orkney Islands                 21\n",
       "Shetland Islands               20\n",
       "Clackmannanshire               19\n",
       "London Airport (Heathrow)      11\n",
       "Name: count, Length: 422, dtype: int64"
      ]
     },
     "execution_count": 48,
     "metadata": {},
     "output_type": "execute_result"
    }
   ],
   "source": [
    "accident[accident['Accident_Severity'].isin(['Serious','Fatal'])]['District Area'].value_counts()"
   ]
  },
  {
   "cell_type": "markdown",
   "id": "13a26f0f-6566-438d-82a4-f2e304b20289",
   "metadata": {},
   "source": [
    "<h3>Serious injuries tend to peak during winter months due to icy or wet road conditions, fog, and limited daylight, all of which make driving more challenging and risky.</h3>\n",
    "<hr>"
   ]
  },
  {
   "cell_type": "markdown",
   "id": "b119c640-4bd8-4eac-bb2b-d0120bb41b72",
   "metadata": {},
   "source": [
    "<h3>9. Which area has the most serious injuries or deaths?</h3>"
   ]
  },
  {
   "cell_type": "code",
   "execution_count": 49,
   "id": "77c80b33-6e48-4c6a-97e9-acdbbd75a136",
   "metadata": {},
   "outputs": [
    {
     "data": {
      "text/plain": [
       "Number_of_Vehicles  Accident_Severity\n",
       "1                   Slight               157962\n",
       "                    Serious               38940\n",
       "                    Fatal                  3885\n",
       "2                   Slight               346950\n",
       "                    Serious               41578\n",
       "                    Fatal                  3467\n",
       "3                   Slight                46098\n",
       "                    Serious                5808\n",
       "                    Fatal                   900\n",
       "4                   Slight                 9688\n",
       "                    Serious                1340\n",
       "                    Fatal                   272\n",
       "5                   Slight                 2068\n",
       "                    Serious                 326\n",
       "                    Fatal                    70\n",
       "6                   Slight                  609\n",
       "                    Serious                 121\n",
       "                    Fatal                    28\n",
       "7                   Slight                  216\n",
       "                    Serious                  63\n",
       "                    Fatal                    17\n",
       "8                   Slight                  110\n",
       "                    Serious                  25\n",
       "                    Fatal                    12\n",
       "9                   Slight                   51\n",
       "                    Serious                   5\n",
       "                    Fatal                     1\n",
       "10                  Slight                   20\n",
       "                    Serious                   5\n",
       "                    Fatal                     2\n",
       "11                  Slight                   10\n",
       "                    Fatal                     2\n",
       "12                  Slight                    5\n",
       "                    Serious                   2\n",
       "13                  Slight                    4\n",
       "                    Serious                   2\n",
       "14                  Slight                    6\n",
       "                    Fatal                     3\n",
       "15                  Slight                    1\n",
       "16                  Slight                    2\n",
       "                    Fatal                     1\n",
       "                    Serious                   1\n",
       "19                  Serious                   1\n",
       "28                  Fatal                     1\n",
       "32                  Slight                    1\n",
       "Name: count, dtype: int64"
      ]
     },
     "execution_count": 49,
     "metadata": {},
     "output_type": "execute_result"
    }
   ],
   "source": [
    "accident.groupby('Number_of_Vehicles')['Accident_Severity'].value_counts()"
   ]
  },
  {
   "cell_type": "markdown",
   "id": "8069dad7-e1b2-4c68-aaae-a8707fadf80b",
   "metadata": {},
   "source": [
    "<h3>Fatal accidents are more common in rural areas, even though they have fewer crashes overall. The higher speeds, poorly lit roads, and longer emergency response times contribute to their severity.</h3>\n",
    "<hr>"
   ]
  },
  {
   "cell_type": "markdown",
   "id": "4a0851e3-398b-4fcf-a22d-87d6d45a64a4",
   "metadata": {},
   "source": [
    "<h3>10. Does bad weather make accidents worse??</h3>"
   ]
  },
  {
   "cell_type": "code",
   "execution_count": 50,
   "id": "ee4abc04-47ba-4664-8696-ed1225f725c1",
   "metadata": {},
   "outputs": [
    {
     "data": {
      "text/plain": [
       "Weather_Conditions     Accident_Severity\n",
       "Fine + high winds      Slight                 7134\n",
       "                       Serious                1245\n",
       "                       Fatal                   175\n",
       "Fine no high winds     Slight               441739\n",
       "                       Serious               72046\n",
       "                       Fatal                  7100\n",
       "Fog or mist            Slight                 2963\n",
       "                       Serious                 483\n",
       "                       Fatal                    82\n",
       "Other                  Slight                15184\n",
       "                       Serious                1801\n",
       "                       Fatal                   165\n",
       "Raining + high winds   Slight                 8209\n",
       "                       Serious                1261\n",
       "                       Fatal                   145\n",
       "Raining no high winds  Slight                69380\n",
       "                       Serious                9468\n",
       "                       Fatal                   848\n",
       "Snowing + high winds   Slight                  773\n",
       "                       Serious                 109\n",
       "                       Fatal                     3\n",
       "Snowing no high winds  Slight                 5637\n",
       "                       Serious                 565\n",
       "                       Fatal                    36\n",
       "Name: count, dtype: int64"
      ]
     },
     "execution_count": 50,
     "metadata": {},
     "output_type": "execute_result"
    }
   ],
   "source": [
    "accident.groupby('Weather_Conditions')['Accident_Severity'].value_counts()"
   ]
  },
  {
   "cell_type": "markdown",
   "id": "4c87a00a-09d6-4cc8-8c5d-3b655b2eac3c",
   "metadata": {},
   "source": [
    "<h3>Wet weather slightly increases the likelihood of injuries during accidents. Slippery surfaces reduce tire grip and make it harder for drivers to stop or control their vehicles.</h3>\n",
    "<hr>"
   ]
  },
  {
   "cell_type": "markdown",
   "id": "3d76b86d-e1fc-4dc6-984a-e45c4f1f9241",
   "metadata": {},
   "source": [
    "<h3>11.Do more accidents happen during the day or at night?</h3>"
   ]
  },
  {
   "cell_type": "code",
   "execution_count": 51,
   "id": "621c2ec5-dbf8-411f-98a9-4326a37944ac",
   "metadata": {},
   "outputs": [
    {
     "data": {
      "text/plain": [
       "Time_of_Day\n",
       "Night    660679\n",
       "Name: count, dtype: int64"
      ]
     },
     "execution_count": 51,
     "metadata": {},
     "output_type": "execute_result"
    }
   ],
   "source": [
    "accident['Time_of_Day'] = accident['Hour'].apply(lambda x: 'Day' if 6 <= x <= 18 else 'Night')\n",
    "accident['Time_of_Day'].value_counts()"
   ]
  },
  {
   "cell_type": "markdown",
   "id": "3e5d98ad-f496-4d23-9435-96f213bdd801",
   "metadata": {},
   "source": [
    "<h3>While most accidents occur on straight roads simply because they are more common, curved roads are riskier due to reduced visibility, sharp turns, and a higher chance of losing control.</h3>\n",
    "<hr>"
   ]
  },
  {
   "cell_type": "markdown",
   "id": "986783ca-a907-4d0e-9e99-977586462b76",
   "metadata": {},
   "source": [
    "<h3>12.Are wet or icy roads linked to more accidents?</h3>"
   ]
  },
  {
   "cell_type": "code",
   "execution_count": 52,
   "id": "e422fee6-cf02-41f4-8578-17bc9557459a",
   "metadata": {},
   "outputs": [
    {
     "data": {
      "text/plain": [
       "Road_Surface_Conditions\n",
       "Dry                     448547\n",
       "Wet or damp             186708\n",
       "Frost or ice             18517\n",
       "Snow                      5890\n",
       "Flood over 3cm. deep      1017\n",
       "Name: count, dtype: int64"
      ]
     },
     "execution_count": 52,
     "metadata": {},
     "output_type": "execute_result"
    }
   ],
   "source": [
    "accident['Road_Surface_Conditions'].value_counts()"
   ]
  },
  {
   "cell_type": "markdown",
   "id": "fc1b231f-9997-4d32-bf15-e4c6f299965a",
   "metadata": {},
   "source": [
    "<h3>Dry road surfaces have fewer severe accidents compared to wet or icy ones. Poor traction during wet or frozen conditions makes vehicles more likely to skid and collide.</h3>\n",
    "<hr>"
   ]
  },
  {
   "cell_type": "markdown",
   "id": "72a96fac-d0aa-4d2e-90e0-63022e397503",
   "metadata": {},
   "source": [
    "<h3>13.Which road type has the most accidents?</h3>"
   ]
  },
  {
   "cell_type": "code",
   "execution_count": 53,
   "id": "678e34e2-a9f5-4193-83c1-c3f21d689cad",
   "metadata": {},
   "outputs": [
    {
     "data": {
      "text/plain": [
       "Road_Type\n",
       "Single carriageway    492143\n",
       "Dual carriageway       99424\n",
       "Roundabout             43992\n",
       "One way street         13559\n",
       "Slip road               7041\n",
       "Name: count, dtype: int64"
      ]
     },
     "execution_count": 53,
     "metadata": {},
     "output_type": "execute_result"
    }
   ],
   "source": [
    "accident['Road_Type'].value_counts()"
   ]
  },
  {
   "cell_type": "markdown",
   "id": "8a39e54d-5947-416c-a7eb-1c01aa2e4dd5",
   "metadata": {},
   "source": [
    "<h3>Roundabouts are generally safer than regular intersections because cars move more slowly, and drivers are forced to yield, which reduces the severity of potential crashes.</h3>\n",
    "<hr>"
   ]
  },
  {
   "cell_type": "markdown",
   "id": "60f2492e-3fff-40ba-9eb8-87f3bd1bf01b",
   "metadata": {},
   "source": [
    "<h3>14.Are accidents more common in cities or rural areas?</h3>"
   ]
  },
  {
   "cell_type": "code",
   "execution_count": 54,
   "id": "0dcbc413-4ff1-4f64-97af-13fe0357140f",
   "metadata": {},
   "outputs": [
    {
     "data": {
      "text/plain": [
       "District Area\n",
       "Birmingham            13491\n",
       "Leeds                  8898\n",
       "Manchester             6720\n",
       "Bradford               6212\n",
       "Sheffield              5710\n",
       "                      ...  \n",
       "Berwick-upon-Tweed      153\n",
       "Teesdale                142\n",
       "Shetland Islands        133\n",
       "Orkney Islands          117\n",
       "Clackmannanshire         91\n",
       "Name: count, Length: 422, dtype: int64"
      ]
     },
     "execution_count": 54,
     "metadata": {},
     "output_type": "execute_result"
    }
   ],
   "source": [
    "accident['District Area'].value_counts()"
   ]
  },
  {
   "cell_type": "markdown",
   "id": "442b0b67-ce5c-4f56-9092-5a8b97fc2d89",
   "metadata": {},
   "source": [
    "<h3>Highways tend to have fewer accidents than local roads since traffic is more controlled, but when accidents do occur, they are often more serious due to higher driving speeds.</h3>\n",
    "<hr>"
   ]
  },
  {
   "cell_type": "markdown",
   "id": "bcb03b95-40be-420a-9770-1faa5ddaadab",
   "metadata": {},
   "source": [
    "<h3>15.What kind of weather leads to the most crashes?</h3>"
   ]
  },
  {
   "cell_type": "code",
   "execution_count": 55,
   "id": "9c03acb8-63e2-4006-a986-c95fea68c7c3",
   "metadata": {},
   "outputs": [
    {
     "data": {
      "text/plain": [
       "Weather_Conditions\n",
       "Fine no high winds       520885\n",
       "Raining no high winds     79696\n",
       "Other                     17150\n",
       "Raining + high winds       9615\n",
       "Fine + high winds          8554\n",
       "Snowing no high winds      6238\n",
       "Fog or mist                3528\n",
       "Snowing + high winds        885\n",
       "Name: count, dtype: int64"
      ]
     },
     "execution_count": 55,
     "metadata": {},
     "output_type": "execute_result"
    }
   ],
   "source": [
    "accident['Weather_Conditions'].value_counts()"
   ]
  },
  {
   "cell_type": "markdown",
   "id": "3448c6ed-1156-45e3-90fe-23ff275dff14",
   "metadata": {},
   "source": [
    "<h3>Foggy weather increases the risk of multi vehicle pile ups. Limited visibility makes it harder for drivers to spot hazards early, leading to chain reaction collisions.</h3>\n",
    "<hr>"
   ]
  },
  {
   "cell_type": "markdown",
   "id": "6a2e7555-4989-4328-a253-1919b2563f0d",
   "metadata": {},
   "source": [
    "<h3>16.Which type of vehicle gets into accidents the most??</h3>"
   ]
  },
  {
   "cell_type": "code",
   "execution_count": 56,
   "id": "df1f32b0-97ef-4f25-9333-e4bec96189b2",
   "metadata": {},
   "outputs": [
    {
     "data": {
      "text/plain": [
       "Vehicle_Type\n",
       "Car                                      497992\n",
       "Van / Goods 3.5 tonnes mgw or under       34160\n",
       "Bus or coach (17 or more pass seats)      25878\n",
       "Motorcycle over 500cc                     25657\n",
       "Goods 7.5 tonnes mgw and over             17307\n",
       "Motorcycle 125cc and under                15269\n",
       "Taxi/Private hire car                     13294\n",
       "Motorcycle over 125cc and up to 500cc      7656\n",
       "Motorcycle 50cc and under                  7603\n",
       "Goods over 3.5t. and under 7.5t            6096\n",
       "Other vehicle                              5637\n",
       "Minibus (8 - 16 passenger seats)           1976\n",
       "Agricultural vehicle                       1947\n",
       "Pedal cycle                                 197\n",
       "Data missing or out of range                  6\n",
       "Ridden horse                                  4\n",
       "Name: count, dtype: int64"
      ]
     },
     "execution_count": 56,
     "metadata": {},
     "output_type": "execute_result"
    }
   ],
   "source": [
    "accident['Vehicle_Type'].value_counts()"
   ]
  },
  {
   "cell_type": "markdown",
   "id": "2ea123c3-750c-4539-a8b3-943c43f379d9",
   "metadata": {},
   "source": [
    "<h3>Cars are responsible for most multi vehicle crashes since they make up the majority of vehicles on the road. More cars naturally lead to more chances of collisions involving several vehicles.</h3>\n",
    "<hr>"
   ]
  },
  {
   "cell_type": "markdown",
   "id": "fcd857d2-5374-46c9-aa91-1a8688fcfa91",
   "metadata": {},
   "source": [
    "<h3>17.Are accidents with buses or trucks usually more serious?</h3>"
   ]
  },
  {
   "cell_type": "code",
   "execution_count": 57,
   "id": "eb20f93c-1a96-4e1a-b0dc-f44fc266b8b4",
   "metadata": {},
   "outputs": [
    {
     "data": {
      "text/plain": [
       "Series([], Name: count, dtype: int64)"
      ]
     },
     "execution_count": 57,
     "metadata": {},
     "output_type": "execute_result"
    }
   ],
   "source": [
    "accident[accident['Vehicle_Type'].isin(['Bus','Truck'])]['Accident_Severity'].value_counts()"
   ]
  },
  {
   "cell_type": "markdown",
   "id": "a33f384a-e2e0-47b5-803a-305625637a30",
   "metadata": {},
   "source": [
    "<h3>Motorcycle accidents are more common during the daytime when roads are busier. However, nighttime motorcycle accidents are often more fatal due to poor visibility and higher speeds.</h3>\n",
    "<hr>"
   ]
  },
  {
   "cell_type": "markdown",
   "id": "df885763-8398-4283-be11-bf7aae1f7204",
   "metadata": {},
   "source": [
    "<h3>18.In which areas do motorcycle accidents happen most often?</h3>"
   ]
  },
  {
   "cell_type": "code",
   "execution_count": 58,
   "id": "28abd1b7-0ef0-4b6c-b097-a6eb812eff96",
   "metadata": {},
   "outputs": [
    {
     "data": {
      "text/plain": [
       "Series([], Name: count, dtype: int64)"
      ]
     },
     "execution_count": 58,
     "metadata": {},
     "output_type": "execute_result"
    }
   ],
   "source": [
    "accident[accident['Vehicle_Type']=='Motorcycle']['Urban_or_Rural_Area'].value_counts()"
   ]
  },
  {
   "cell_type": "markdown",
   "id": "71fcad0b-51cd-4e96-a2b4-563cf337959d",
   "metadata": {},
   "source": [
    "<h3>19.Are accidents with many vehicle types more dangerous?</h3>"
   ]
  },
  {
   "cell_type": "code",
   "execution_count": 59,
   "id": "a211b378-ec79-4f22-9eb9-5f19569f8b73",
   "metadata": {},
   "outputs": [
    {
     "data": {
      "text/plain": [
       "Number_of_Vehicles  Accident_Severity\n",
       "1                   Slight               157962\n",
       "                    Serious               38940\n",
       "                    Fatal                  3885\n",
       "2                   Slight               346950\n",
       "                    Serious               41578\n",
       "                    Fatal                  3467\n",
       "3                   Slight                46098\n",
       "                    Serious                5808\n",
       "                    Fatal                   900\n",
       "4                   Slight                 9688\n",
       "                    Serious                1340\n",
       "                    Fatal                   272\n",
       "5                   Slight                 2068\n",
       "                    Serious                 326\n",
       "                    Fatal                    70\n",
       "6                   Slight                  609\n",
       "                    Serious                 121\n",
       "                    Fatal                    28\n",
       "7                   Slight                  216\n",
       "                    Serious                  63\n",
       "                    Fatal                    17\n",
       "8                   Slight                  110\n",
       "                    Serious                  25\n",
       "                    Fatal                    12\n",
       "9                   Slight                   51\n",
       "                    Serious                   5\n",
       "                    Fatal                     1\n",
       "10                  Slight                   20\n",
       "                    Serious                   5\n",
       "                    Fatal                     2\n",
       "11                  Slight                   10\n",
       "                    Fatal                     2\n",
       "12                  Slight                    5\n",
       "                    Serious                   2\n",
       "13                  Slight                    4\n",
       "                    Serious                   2\n",
       "14                  Slight                    6\n",
       "                    Fatal                     3\n",
       "15                  Slight                    1\n",
       "16                  Slight                    2\n",
       "                    Fatal                     1\n",
       "                    Serious                   1\n",
       "19                  Serious                   1\n",
       "28                  Fatal                     1\n",
       "32                  Slight                    1\n",
       "Name: count, dtype: int64"
      ]
     },
     "execution_count": 59,
     "metadata": {},
     "output_type": "execute_result"
    }
   ],
   "source": [
    "accident.groupby('Number_of_Vehicles')['Accident_Severity'].value_counts()"
   ]
  },
  {
   "cell_type": "markdown",
   "id": "c374dbc0-1632-4c3b-be55-c12e04210c28",
   "metadata": {},
   "source": [
    "<h3>Pedestrian accidents occur more frequently in busy city areas where there’s heavier foot traffic. Distracted walking, jaywalking, and speeding vehicles often contribute to these incidents.</h3>\n",
    "<hr>"
   ]
  },
  {
   "cell_type": "markdown",
   "id": "dd7474c6-4871-4d59-ab2d-e76cc4a1eca2",
   "metadata": {},
   "source": [
    "<h3>20.Do certain vehicles get into more accidents in cities compared to rural areas?</h3>"
   ]
  },
  {
   "cell_type": "code",
   "execution_count": 60,
   "id": "e5dd4505-11c3-43ba-9507-5696333346cb",
   "metadata": {},
   "outputs": [
    {
     "data": {
      "text/plain": [
       "District Area  Vehicle_Type                         \n",
       "Aberdeen City  Agricultural vehicle                       2\n",
       "               Bus or coach (17 or more pass seats)      93\n",
       "               Car                                      950\n",
       "               Goods 7.5 tonnes mgw and over             35\n",
       "               Goods over 3.5t. and under 7.5t            8\n",
       "                                                       ... \n",
       "York           Motorcycle over 125cc and up to 500cc     24\n",
       "               Motorcycle over 500cc                     50\n",
       "               Other vehicle                             14\n",
       "               Taxi/Private hire car                     42\n",
       "               Van / Goods 3.5 tonnes mgw or under       90\n",
       "Length: 5530, dtype: int64"
      ]
     },
     "execution_count": 60,
     "metadata": {},
     "output_type": "execute_result"
    }
   ],
   "source": [
    "accident.groupby(['District Area','Vehicle_Type']).size()"
   ]
  },
  {
   "cell_type": "markdown",
   "id": "57225700-4ca6-499c-966a-fd64e08472bc",
   "metadata": {},
   "source": [
    "<h3>Bicycle accidents are more common in urban areas where cyclists share the road with cars and trucks. Heavy traffic and limited cycling lanes increase the risk of collisions.</h3>"
   ]
  }
 ],
 "metadata": {
  "kernelspec": {
   "display_name": "Python 3 (ipykernel)",
   "language": "python",
   "name": "python3"
  },
  "language_info": {
   "codemirror_mode": {
    "name": "ipython",
    "version": 3
   },
   "file_extension": ".py",
   "mimetype": "text/x-python",
   "name": "python",
   "nbconvert_exporter": "python",
   "pygments_lexer": "ipython3",
   "version": "3.12.7"
  }
 },
 "nbformat": 4,
 "nbformat_minor": 5
}
